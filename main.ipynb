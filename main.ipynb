{
 "cells": [
  {
   "metadata": {},
   "cell_type": "markdown",
   "source": [
    "# Classical Sentiment Analysis\n",
    "\n",
    "Develop a classical machine-learning-based sentiment classifier for movie reviews. The dataset contains a collection of annotated documents, which are divided into two classes: **pos** (positive) and **neg** (negative).\n",
    "\n",
    "Our goal is to achieve the best macro-average `F1-score` using classical machine-learning approaches such as `Naïve Bayes`, `Logistic Regression`, and `Random Forests`.\n",
    "\n",
    "[![Report](https://img.shields.io/badge/Full_Report_in_W&B-gray?logo=weightsandbiases&logoColor=yellow)](https://api.wandb.ai/links/research-devellopment/hjgmo1ka)\n"
   ],
   "id": "f533edbac8a5435a"
  },
  {
   "metadata": {},
   "cell_type": "markdown",
   "source": "## Import Dependencies",
   "id": "2bd8ca21e45a97e"
  },
  {
   "metadata": {
    "ExecuteTime": {
     "end_time": "2025-03-13T13:00:35.831260Z",
     "start_time": "2025-03-13T13:00:34.633059Z"
    }
   },
   "cell_type": "code",
   "source": [
    "import os\n",
    "import pathlib\n",
    "import re\n",
    "from warnings import filterwarnings\n",
    "from collections import Counter\n",
    "from dataclasses import dataclass, field\n",
    "from nltk.corpus import stopwords\n",
    "from nltk.stem import WordNetLemmatizer\n",
    "from bs4 import BeautifulSoup\n",
    "from sklearn.feature_extraction.text import ENGLISH_STOP_WORDS\n",
    "from sklearn.model_selection import train_test_split, StratifiedKFold\n",
    "from sklearn.feature_extraction.text import TfidfVectorizer\n",
    "from sklearn.base import BaseEstimator\n",
    "from sklearn.naive_bayes import MultinomialNB\n",
    "from sklearn.linear_model import LogisticRegression\n",
    "from sklearn.ensemble import RandomForestClassifier\n",
    "from sklearn.metrics import recall_score, precision_score, f1_score, accuracy_score, log_loss, confusion_matrix\n",
    "import pandas as pd\n",
    "import matplotlib.pyplot as plt\n",
    "import numpy as np\n",
    "import seaborn as sns\n",
    "import wandb\n",
    "filterwarnings(\"ignore\")"
   ],
   "id": "6efacc80de4b54b6",
   "outputs": [],
   "execution_count": 1
  },
  {
   "metadata": {
    "ExecuteTime": {
     "end_time": "2025-03-13T13:00:38.831220Z",
     "start_time": "2025-03-13T13:00:35.836503Z"
    }
   },
   "cell_type": "code",
   "source": "!wandb login",
   "id": "abb7359eef0c3e92",
   "outputs": [
    {
     "name": "stdout",
     "output_type": "stream",
     "text": [
      "\u001B[34m\u001B[1mwandb\u001B[0m: Currently logged in as: \u001B[33mismaelmousa\u001B[0m (\u001B[33mresearch-devellopment\u001B[0m) to \u001B[32mhttps://api.wandb.ai\u001B[0m. Use \u001B[1m`wandb login --relogin`\u001B[0m to force relogin\r\n"
     ]
    }
   ],
   "execution_count": 2
  },
  {
   "metadata": {},
   "cell_type": "markdown",
   "source": [
    "## Construct Configurations and Pipelines\n",
    "- Dataset Configuration\n",
    "- Model Configuration\n",
    "- Dataset Handler\n",
    "- Model Wrapper"
   ],
   "id": "604c11495e3c760e"
  },
  {
   "metadata": {},
   "cell_type": "markdown",
   "source": [
    "### Dataset Configuration\n",
    "\n",
    "- Manages dataset paths, labels, and NLP settings.\n",
    "- Key Attributes:\n",
    "  - `negatives`/`positives`: Paths to labeled data directories.\n",
    "  - `labels_to_ids`: Maps `\"neg\"`/`\"pos\"` to numerical IDs.\n",
    "  - `stopwords`: Combined set (`ENGLISH_STOP_WORDS` + NLTK stopwords).\n",
    "  - `negations`: Predefined negation phrases (e.g., `\"not\"`, `\"don't\"`)."
   ],
   "id": "4e733371e4244bc"
  },
  {
   "metadata": {
    "ExecuteTime": {
     "end_time": "2025-03-13T13:11:42.244688Z",
     "start_time": "2025-03-13T13:11:42.236267Z"
    }
   },
   "cell_type": "code",
   "source": [
    "@dataclass\n",
    "class DatasetConfig:\n",
    "    \"\"\"\n",
    "    Represents the dataset configuration for managing dataset paths and related settings.\n",
    "    Encapsulating various configurations related to dataset paths, file locations,\n",
    "    and other properties necessary for working with a dataset in a training or evaluation context.\n",
    "\n",
    "    type: The type of the dataset (e.g., `training`, `testing`).\n",
    "    root: The root directory of the project.\n",
    "    data: The path to the data directory.\n",
    "    dataset: The path to the dataset directory, based on the dataset type.\n",
    "    negatives: The path to the directory containing negative samples (labeled `neg`).\n",
    "    positives: The path to the directory containing positive samples (labeled `pos`).\n",
    "    num_negatives: The number of negative samples in the `neg` directory.\n",
    "    num_positives: The number of positive samples in the `pos` directory.\n",
    "    labels_to_ids: A mapping of label names (`neg` and `pos`) to corresponding numerical IDs.\n",
    "    ids_to_labels: A mapping of numerical IDs to corresponding label names.\n",
    "    stopwords: A set of stopwords from `ENGLISH_STOP_WORDS` and `stopwords.words(\"english\")`.\n",
    "    negations: A set of negation words or phrases commonly used in natural language processing.\n",
    "    \"\"\"\n",
    "    type: str = \"training\"\n",
    "    root: str = os.getcwd()\n",
    "    data: str = field(init=False)\n",
    "    dataset: str = field(init=False)\n",
    "    negatives: pathlib.Path = field(init=False)\n",
    "    positives: pathlib.Path = field(init=False)\n",
    "    num_negatives: int = field(init=False)\n",
    "    num_positives: int = field(init=False)\n",
    "    labels_to_ids: dict = field(default_factory=lambda: {\"neg\": 0, \"pos\": 1})\n",
    "    ids_to_labels: dict = field(default_factory=lambda: {0: \"neg\", 1: \"pos\"})\n",
    "    stopwords: set = field(default_factory=lambda: set(ENGLISH_STOP_WORDS) | set(stopwords.words(\"english\")))\n",
    "    negations: set = field(default_factory=lambda: {\"not\", \"don't\", \"don\", \"aren\", \"ain\", \"aren't\",\n",
    "                                                     \"couldn\", \"couldn't\", \"didn\", \"didn't\", \"doesn\",\n",
    "                                                     \"doesn't\", \"hadn\", \"hadn't\", \"hasn\", \"hasn't\",\n",
    "                                                     \"haven\", \"haven't\", \"isn\", \"isn't\", \"ma\", \"mightn\",\n",
    "                                                     \"mightn't\", \"mustn\", \"mustn't\", \"needn\", \"needn't\",\n",
    "                                                     \"shan\", \"shan't\", \"shouldn\", \"shouldn't\", \"wasn\",\n",
    "                                                     \"wasn't\", \"weren\", \"weren't\", \"won't\", \"wouldn\",\n",
    "                                                     \"wouldn't\", \"no\", \"never\", \"none\", \"nothing\",\n",
    "                                                     \"nobody\", \"nowhere\", \"neither\", \"nor\", \"cannot\",\n",
    "                                                     \"can't\", \"couldn't\", \"less\", \"without\", \"hasn't\",\n",
    "                                                     \"noone\", \"nevertheless\", \"otherwise\"})\n",
    "\n",
    "    def __post_init__(self):\n",
    "        self.data = os.path.join(self.root, \"data\")\n",
    "        self.dataset = os.path.join(self.data, f\"{self.type}_data\")\n",
    "        self.negatives = pathlib.Path(os.path.join(self.dataset, \"neg\"))\n",
    "        self.positives = pathlib.Path(os.path.join(self.dataset, \"pos\"))\n",
    "        self.num_negatives = len(os.listdir(self.negatives)) if self.negatives.exists() else 0\n",
    "        self.num_positives = len(os.listdir(self.positives)) if self.positives.exists() else 0"
   ],
   "id": "5f2e0c92a1bdb0ea",
   "outputs": [],
   "execution_count": 52
  },
  {
   "metadata": {},
   "cell_type": "markdown",
   "source": [
    "### Construct Dataset's Utilities\n",
    "\n",
    "Implements the `Dataset` class handler, where handles loading the data, analyzing, splitting, cleaning and preprocessing it."
   ],
   "id": "96be415e24a5d720"
  },
  {
   "metadata": {
    "ExecuteTime": {
     "end_time": "2025-03-13T13:00:39.015100Z",
     "start_time": "2025-03-13T13:00:38.992789Z"
    }
   },
   "cell_type": "code",
   "source": [
    "class Dataset:\n",
    "    \"\"\"\n",
    "    A dataset handler for text classification tasks.\n",
    "\n",
    "    This class is responsible for loading, processing, and splitting labeled text datasets.\n",
    "    It provides various text preprocessing utilities, including stopword removal,\n",
    "    lemmatization, negation normalization, and HTML tag removal.\n",
    "\n",
    "    config: An instance of DatasetConfig containing dataset configurations.\n",
    "    read: A DataFrame storing the loaded dataset with \"text\" and \"label\" columns.\n",
    "    \"\"\"\n",
    "    def __init__(self, config: DatasetConfig):\n",
    "        self.config = config\n",
    "        self.read = None\n",
    "\n",
    "\n",
    "    def load(self):\n",
    "        \"\"\"\n",
    "        Loads the dataset into a DataFrame.\n",
    "\n",
    "        Reads text files from positive and negative directories, assigns labels, and stores\n",
    "        the dataset as a DataFrame with \"text\" and \"label\" columns.\n",
    "\n",
    "        :return: A DataFrame containing the loaded dataset.\n",
    "        \"\"\"\n",
    "        if self.read is not None: return self.read\n",
    "\n",
    "        directories = {\"neg\": self.config.negatives, \"pos\": self.config.positives}\n",
    "\n",
    "        text_label = [(file.read_text(), label)\n",
    "                      for label, directory in directories.items()\n",
    "                      for file in directory.iterdir()]\n",
    "\n",
    "        self.read = pd.DataFrame(text_label, columns=[\"text\", \"label\"])\n",
    "\n",
    "        return self.read\n",
    "\n",
    "\n",
    "    def count(self, n):\n",
    "        \"\"\"\n",
    "        Finds the most common words in positive and negative texts.\n",
    "\n",
    "        Extracts the most frequent words from negative and positive samples, identifies\n",
    "        common words between the two categories, and lists words unique to each category.\n",
    "\n",
    "        :param n: The number of top words to retrieve.\n",
    "        :return: A tuple containing:\n",
    "                 - list of top negative words\n",
    "                 - list of top positive words\n",
    "                 - list of words common in both categories\n",
    "                 - set of words unique to negatives\n",
    "                 - set of words unique to positives\n",
    "        \"\"\"\n",
    "        if self.read is None: return \"First: Dataset().load()\"\n",
    "\n",
    "        if isinstance(self.read[\"label\"].iloc[0], str):\n",
    "            negatives = \" \".join(self.read[self.read[\"label\"] == \"neg\"][\"text\"]).lower()\n",
    "            positives = \" \".join(self.read[self.read[\"label\"] == \"pos\"][\"text\"]).lower()\n",
    "\n",
    "        else:\n",
    "            negatives = \" \".join(self.read[self.read[\"label\"] == 0][\"text\"]).lower()\n",
    "            positives = \" \".join(self.read[self.read[\"label\"] == 1][\"text\"]).lower()\n",
    "\n",
    "        top_negatives = [word for word, _ in Counter(negatives.split()).most_common(n)]\n",
    "        top_positives = [word for word, _ in Counter(positives.split()).most_common(n)]\n",
    "\n",
    "        commons = list(set(top_negatives) & set(top_positives))\n",
    "\n",
    "        only_negatives = set(top_negatives) - set(top_positives)\n",
    "        only_positives = set(top_positives) - set(top_negatives)\n",
    "\n",
    "        return top_negatives, top_positives, commons, only_negatives, only_positives\n",
    "\n",
    "\n",
    "    def info(self, n=10):\n",
    "        \"\"\"\n",
    "        Displays dataset statistics and common words.\n",
    "\n",
    "        Prints the number of positive and negative samples, calculates the average word count per category,\n",
    "        and visualizes the results. Also lists the most common words found in each category.\n",
    "\n",
    "        :param n: The number of top words to display.\n",
    "        \"\"\"\n",
    "        if self.read is None: return \"First: Dataset().load()\"\n",
    "\n",
    "        print(\"Negatives: \", self.config.num_negatives)\n",
    "        print(\"Positives: \", self.config.num_positives)\n",
    "\n",
    "        if isinstance(self.read[\"label\"].iloc[0], str):\n",
    "            flag = \"Before Cleaning\"\n",
    "            color = \"red\"\n",
    "            negatives = self.read[self.read.label==\"neg\"].text.apply(lambda text: len(text.split())).mean()\n",
    "            positives = self.read[self.read.label==\"pos\"].text.apply(lambda text: len(text.split())).mean()\n",
    "\n",
    "        else:\n",
    "            flag = \"After Cleaning\"\n",
    "            color = \"blue\"\n",
    "            negatives = self.read[self.read.label==0].text.apply(lambda text: len(text.split())).mean()\n",
    "            positives = self.read[self.read.label==1].text.apply(lambda text: len(text.split())).mean()\n",
    "\n",
    "        top_negatives, top_positives, commons, only_negatives, only_positives = self.count(n=n)\n",
    "\n",
    "        print(f\"\\nCommon {n} Words {flag}:\")\n",
    "        print(f\"\\nNegatives          : {top_negatives}\")\n",
    "        print(f\"\\nPositives          : {top_positives}\")\n",
    "        print(f\"\\nCommons (neg & pos): {commons}\")\n",
    "        print(f\"\\nOnly Negatives     : {only_negatives}\")\n",
    "        print(f\"\\nOnly Positives     : {only_positives}\")\n",
    "\n",
    "\n",
    "        plt.figure(figsize=(10, 3))\n",
    "        plt.barh([\"Negative\", \"Positive\"], [negatives, positives],height=0.5, color=color)\n",
    "        plt.xlabel(f\"Average Number of Words {flag}\")\n",
    "        plt.ylabel(\"Label\")\n",
    "        plt.show()\n",
    "\n",
    "\n",
    "    def split(self):\n",
    "        \"\"\"\n",
    "        Splits the dataset into train and test sets.\n",
    "\n",
    "        :return: A tuple (train_inputs, test_inputs, train_labels, test_labels).\n",
    "        \"\"\"\n",
    "        if self.read is None: return \"First: Dataset().load()\"\n",
    "\n",
    "        inputs = self.read[\"text\"]\n",
    "        target = self.read[\"label\"]\n",
    "\n",
    "        return train_test_split(inputs, target, test_size=0.2, random_state=42, stratify=target)\n",
    "\n",
    "\n",
    "    @staticmethod\n",
    "    def lemmatize(tokens):\n",
    "        \"\"\"\n",
    "        Lemmatizes a list of tokens.\n",
    "\n",
    "        :param tokens: A list of word tokens.\n",
    "        :return: A list of lemmatized tokens.\n",
    "        \"\"\"\n",
    "        lemmatizer = WordNetLemmatizer()\n",
    "        text = [lemmatizer.lemmatize(token.lower()) for token in tokens]\n",
    "        text = [lemmatizer.lemmatize(token.lower(), \"v\") for  token in text]\n",
    "\n",
    "        return text\n",
    "\n",
    "\n",
    "    @staticmethod\n",
    "    def normalize_negations(text):\n",
    "        \"\"\"\n",
    "        Normalizes negations by replacing contractions with their full form.\n",
    "\n",
    "        :param text: A string of text.\n",
    "        :return: The modified text with normalized negations.\n",
    "        \"\"\"\n",
    "        return re.compile(\"n't \").sub(\" not \", text)\n",
    "\n",
    "\n",
    "    @staticmethod\n",
    "    def remove_html_tags(text):\n",
    "        \"\"\"\n",
    "        Removes HTML tags from a string.\n",
    "\n",
    "        :param text: A string containing potential HTML tags.\n",
    "        :return: Cleaned text without HTML elements.\n",
    "        \"\"\"\n",
    "        return BeautifulSoup(text, \"html.parser\").get_text()\n",
    "\n",
    "\n",
    "    @staticmethod\n",
    "    def remove_non_alphanumeric(text):\n",
    "        \"\"\"\n",
    "        Removes non-alphanumeric characters from a string.\n",
    "\n",
    "        :param text: A string of text.\n",
    "        :return: Cleaned text containing only letters and numbers.\n",
    "        \"\"\"\n",
    "        return re.sub(\"[^a-zA-Z_0-9]\", \" \", text)\n",
    "\n",
    "\n",
    "    @staticmethod\n",
    "    def lowercase(text):\n",
    "        \"\"\"\n",
    "        Converts a string to lowercase.\n",
    "\n",
    "        :param text: A string of text.\n",
    "        :return: A lowercase version of the input text.\n",
    "        \"\"\"\n",
    "        return np.char.lower(text.split())\n",
    "\n",
    "\n",
    "    def remove_stopwords(self, text):\n",
    "        \"\"\"\n",
    "        Removes stopwords from a list of tokens.\n",
    "\n",
    "        :param text: A list of word tokens.\n",
    "        :return: A list of tokens without stopwords.\n",
    "        \"\"\"\n",
    "        stopwords = self.config.stopwords - self.config.negations\n",
    "\n",
    "        return [token for token in text if not token in stopwords]\n",
    "\n",
    "\n",
    "    def clean(self):\n",
    "        \"\"\"\n",
    "        Applies a sequence of text cleaning steps.\n",
    "\n",
    "        Removes HTML tags, normalizes negations, removes non-alphanumeric characters,\n",
    "        lowercases the text, removes stopwords, lemmatizes words, and converts tokens back into a string.\n",
    "        Updates labels to their numerical format.\n",
    "\n",
    "        :return: A cleaned DataFrame.\n",
    "        \"\"\"\n",
    "        if self.read is None: return \"First: Dataset().load()\"\n",
    "\n",
    "        self.read[\"text\"] = self.read[\"text\"].apply(self.remove_html_tags)\n",
    "        self.read[\"text\"] = self.read[\"text\"].apply(self.normalize_negations)\n",
    "        self.read[\"text\"] = self.read[\"text\"].apply(self.remove_non_alphanumeric)\n",
    "        self.read[\"text\"] = self.read[\"text\"].apply(self.lowercase)\n",
    "        self.read[\"text\"] = self.read[\"text\"].apply(self.remove_stopwords)\n",
    "        self.read[\"text\"] = self.read[\"text\"].apply(self.lemmatize)\n",
    "        self.read[\"text\"] = self.read[\"text\"].apply(lambda tokens: \" \".join(tokens))\n",
    "\n",
    "        self.read[\"label\"] = self.read[\"label\"].map(self.config.labels_to_ids)\n",
    "\n",
    "        return self.read"
   ],
   "id": "6678b82019b1f06c",
   "outputs": [],
   "execution_count": 4
  },
  {
   "metadata": {},
   "cell_type": "markdown",
   "source": [
    "### Model Configuration\n",
    "\n",
    "Defines the `ModelConfig` class to manage machine learning model settings, including hyperparameters for the classifier (e.g., MultinomialNB) and vectorizer (TfidfVectorizer).\n",
    "\n",
    "Initializes components during post-initialization."
   ],
   "id": "1cd8b4b8cce916f9"
  },
  {
   "metadata": {
    "ExecuteTime": {
     "end_time": "2025-03-13T13:00:39.052619Z",
     "start_time": "2025-03-13T13:00:39.046566Z"
    }
   },
   "cell_type": "code",
   "source": [
    "@dataclass\n",
    "class ModelConfig:\n",
    "    \"\"\"\n",
    "    Represents the configuration for machine learning model and vectorizer.\n",
    "    Managing hyperparameters and initialization of the model and vectorizer.\n",
    "\n",
    "    model_params: Hyperparameters for the model.\n",
    "    model: The initialized machine learning model, default MultinomialNB.\n",
    "    vectorizer_params: Hyperparameters for the vectorizer.\n",
    "    vectorizer: The initialized TF-IDF vectorizer.\n",
    "    results: A list to store experiment results and configurations.\n",
    "    experiments: The experiment number, mainly used for logging.\n",
    "    \"\"\"\n",
    "    model_params: dict = field(default_factory=lambda: {})\n",
    "    model: BaseEstimator = field(init=False)\n",
    "    vectorizer_params: dict = field(default_factory=lambda: {})\n",
    "    vectorizer: TfidfVectorizer = field(init=False)\n",
    "    results: list = field(default_factory=lambda: [])\n",
    "    experiments: int = 1\n",
    "\n",
    "    def __post_init__(self):\n",
    "        self.model = MultinomialNB(**self.model_params)\n",
    "        self.vectorizer = TfidfVectorizer(**self.vectorizer_params)"
   ],
   "id": "57c39f018ef19b1a",
   "outputs": [],
   "execution_count": 5
  },
  {
   "metadata": {},
   "cell_type": "markdown",
   "source": [
    "### Construct Model's Utilities\n",
    "Implements the `Model` class wrapper, where handling vectorization (TF-IDF), training, prediction, and logging via *Weights & Biases*.\n",
    "\n",
    "Configures model/vectorizer parameters dynamically."
   ],
   "id": "d909c5562220d3d1"
  },
  {
   "metadata": {
    "ExecuteTime": {
     "end_time": "2025-03-13T13:00:39.126759Z",
     "start_time": "2025-03-13T13:00:39.112615Z"
    }
   },
   "cell_type": "code",
   "source": [
    "class Model:\n",
    "    \"\"\"\n",
    "    A machine learning model wrapper for text classification.\n",
    "    Managing all the operations from the training to the logging.\n",
    "\n",
    "    config: An instance of ModelConfig containing model configurations.\n",
    "    \"\"\"\n",
    "    def __init__(self, config: ModelConfig):\n",
    "        self.config = config\n",
    "        self.config.vectorizer.set_params(**self.config.vectorizer_params)\n",
    "        self.config.model.set_params(**self.config.model_params)\n",
    "\n",
    "\n",
    "    def vectorize(self, inputs, fit=True):\n",
    "        \"\"\"\n",
    "        Converts input text data into numerical features using the TF-IDF vectorizer.\n",
    "\n",
    "        :param inputs: List or array of text data.\n",
    "        :param fit: If True, fits and transforms the data; otherwise, only transforms.\n",
    "        :return: Transformed text data as a sparse matrix.\n",
    "        \"\"\"\n",
    "        if fit: return self.config.vectorizer.fit_transform(inputs)\n",
    "\n",
    "        return self.config.vectorizer.transform(inputs)\n",
    "\n",
    "\n",
    "    def fit(self, inputs, target):\n",
    "        \"\"\"\n",
    "        Trains the model on the given input data and labels.\n",
    "\n",
    "        :param inputs: Training features.\n",
    "        :param target: Target labels.\n",
    "        \"\"\"\n",
    "        config = {\"model\": type(self.config.model).__name__,\n",
    "                  \"vectorizer\": type(self.config.vectorizer).__name__,\n",
    "                  **self.config.model_params,\n",
    "                  **self.config.vectorizer_params,\n",
    "                  \"train_size\": inputs.shape[0]}\n",
    "\n",
    "        self.run = wandb.init(project=\"sentiment-analysis\",\n",
    "                              name=f\"Experiment-{self.config.experiments}\",\n",
    "                              config=config)\n",
    "\n",
    "        self.config.model.fit(inputs, target)\n",
    "\n",
    "        self.config.experiments += 1\n",
    "\n",
    "\n",
    "    def predict(self, inputs):\n",
    "        \"\"\"\n",
    "        Generates predictions for the given input data.\n",
    "\n",
    "        :param inputs: Input features.\n",
    "        :return: Predicted labels.\n",
    "        \"\"\"\n",
    "        return self.config.model.predict(inputs)\n",
    "\n",
    "\n",
    "    def predict_proba(self, inputs):\n",
    "        \"\"\"\n",
    "        Generates the probabilities for each class.\n",
    "\n",
    "        :param inputs: Input features.\n",
    "        :return: Probabilities for each class.\n",
    "        \"\"\"\n",
    "        return self.config.model.predict_proba(inputs)\n",
    "\n",
    "\n",
    "    @staticmethod\n",
    "    def check_overfitting(train_accuracy, test_accuracy, threshold=0.1):\n",
    "        \"\"\"\n",
    "        Checks for overfitting by comparing training and test accuracy.\n",
    "\n",
    "        :param train_accuracy: Training accuracy.\n",
    "        :param test_accuracy: Test accuracy.\n",
    "        :param threshold: Difference threshold to consider overfitting.\n",
    "        \"\"\"\n",
    "        if train_accuracy - test_accuracy > threshold:\n",
    "            print(f\"Training Accuracy {train_accuracy} is significantly higher than Testing Accuracy {test_accuracy}\")\n",
    "\n",
    "\n",
    "    def evaluate(self, inputs, target):\n",
    "        \"\"\"\n",
    "        Evaluates the model on the given dataset.\n",
    "\n",
    "        :param inputs: Test features.\n",
    "        :param target: True labels.\n",
    "        :return: Tuple containing loss, accuracy, F1-score, recall, and precision.\n",
    "        \"\"\"\n",
    "        predictions = self.predict(inputs)\n",
    "        probabilities = self.predict_proba(inputs)\n",
    "\n",
    "        loss = round(log_loss(target, probabilities), 4)\n",
    "        accuracy = round(accuracy_score(target, predictions), 4)\n",
    "        f1 = round(f1_score(target, predictions, average=\"macro\"), 4)\n",
    "        recall = round(recall_score(target, predictions, average=\"macro\"), 4)\n",
    "        precision = round(precision_score(target, predictions, average=\"macro\"), 4)\n",
    "\n",
    "        return loss, accuracy, f1, recall, precision\n",
    "\n",
    "\n",
    "    def evaluate_cross_validation(self, inputs, target, k=10):\n",
    "        \"\"\"\n",
    "        Performs k-fold cross-validation to evaluate model performance.\n",
    "\n",
    "        :param inputs: Input data.\n",
    "        :param target: Target labels.\n",
    "        :param k: Number of cross-validation splits.\n",
    "        :return: Dictionary containing averaged evaluation metrics.\n",
    "        \"\"\"\n",
    "        skf = StratifiedKFold(n_splits=k, shuffle=True, random_state=42)\n",
    "        scores = {\"loss\": [], \"accuracy\": [], \"f1\": [], \"recall\": [], \"precision\": []}\n",
    "\n",
    "        for train_idx, test_idx in skf.split(inputs, target):\n",
    "            train_inputs, test_inputs = inputs[train_idx], inputs[test_idx]\n",
    "            train_target, test_target = target[train_idx], target[test_idx]\n",
    "\n",
    "            train_features = self.vectorize(train_inputs, fit=True)\n",
    "            test_features  = self.vectorize(test_inputs,  fit=False)\n",
    "\n",
    "            self.fit(train_features, train_target)\n",
    "\n",
    "            loss, accuracy, f1, recall, precision = self.evaluate(test_features, test_target)\n",
    "\n",
    "            train_accuracy = self.evaluate(train_features, train_target)[1]\n",
    "\n",
    "            self.check_overfitting(train_accuracy=train_accuracy, test_accuracy=accuracy)\n",
    "\n",
    "            scores[\"loss\"].append(loss)\n",
    "            scores[\"accuracy\"].append(accuracy)\n",
    "            scores[\"f1\"].append(f1)\n",
    "            scores[\"recall\"].append(recall)\n",
    "            scores[\"precision\"].append(precision)\n",
    "\n",
    "        return {metric: round(float(np.mean(values)), 4) for metric, values in scores.items()}\n",
    "\n",
    "\n",
    "    def display_confusion_matrix(self, inputs, target):\n",
    "        \"\"\"\n",
    "        Displays the confusion matrix for the model's predictions.\n",
    "\n",
    "        :param inputs: Feature data.\n",
    "        :param target: True labels.\n",
    "        \"\"\"\n",
    "        predictions = self.predict(inputs)\n",
    "        cm = confusion_matrix(target, predictions)\n",
    "\n",
    "        sns.heatmap(cm, annot=True, fmt=\"d\", cmap=\"Blues\")\n",
    "        plt.title(f\"Confusion Matrix for {type(self.config.model).__name__}\")\n",
    "        plt.show()\n",
    "\n",
    "\n",
    "    def display_top_influences(self):\n",
    "        \"\"\"\n",
    "        Displays the top positive and negative influential words in the model.\n",
    "        \"\"\"\n",
    "        coefficient = self.config.model.coef_[0]\n",
    "        feature_names = np.array(self.config.vectorizer.get_feature_names_out())\n",
    "\n",
    "        top_positive_idx = coefficient.argsort()[-10:]\n",
    "        top_negative_idx = coefficient.argsort()[:10]\n",
    "\n",
    "        top_positive_words = feature_names[top_positive_idx]\n",
    "        top_negative_words = feature_names[top_negative_idx]\n",
    "\n",
    "        plt.figure(figsize=(12, 6))\n",
    "\n",
    "        plt.subplot(1, 2, 1)\n",
    "        plt.barh(top_positive_words, coefficient[top_positive_idx], color=\"blue\")\n",
    "        plt.title(f\"Top 10 Positive Words ({type(self.config.model).__name__})\")\n",
    "        plt.xlabel(\"Weights\")\n",
    "        plt.ylabel(\"Words\")\n",
    "\n",
    "        plt.subplot(1, 2, 2)\n",
    "        plt.barh(top_negative_words, coefficient[top_negative_idx], color=\"red\")\n",
    "        plt.title(f\"Top 10 Negative Words ({type(self.config.model).__name__})\")\n",
    "        plt.xlabel(\"Weights\")\n",
    "        plt.ylabel(\"Words\")\n",
    "\n",
    "        plt.tight_layout()\n",
    "        plt.show()\n",
    "\n",
    "\n",
    "    def log(self, train_results, test_results):\n",
    "        \"\"\"\n",
    "        Logs experiment results to Weights & Biases, and stores them in the configuration.\n",
    "\n",
    "        :param train_results: Tuple of evaluation metrics for training data.\n",
    "        :param test_results: Tuple of evaluation metrics for test data.\n",
    "        :return: DataFrame of logged results.\n",
    "        \"\"\"\n",
    "        results = {\"train_loss\": train_results[0], \"train_accuracy\": train_results[1],\n",
    "                   \"train_f1\": train_results[2], \"train_recall\": train_results[3],\n",
    "                   \"train_precision\": train_results[4], \"test_loss\": test_results[0],\n",
    "                   \"test_accuracy\": test_results[1], \"test_f1\": test_results[2],\n",
    "                   \"test_recall\": test_results[3], \"test_precision\": test_results[4]}\n",
    "\n",
    "        self.run.log(results)\n",
    "\n",
    "        self.config.results.append({\"model\": type(self.config.model).__name__,\n",
    "                                    **self.config.model_params,\n",
    "                                    \"vectorizer\": type(self.config.vectorizer).__name__,\n",
    "                                    **self.config.vectorizer_params,\n",
    "                                    **results})\n",
    "\n",
    "        self.run.finish()\n",
    "\n",
    "        return pd.DataFrame(self.config.results)"
   ],
   "id": "8b72993b06694ed8",
   "outputs": [],
   "execution_count": 6
  },
  {
   "metadata": {},
   "cell_type": "markdown",
   "source": [
    "### Initializing the Configurations, Dataset and Model\n",
    "\n",
    "Creates `DatasetConfig` and `ModelConfig` instances.\n",
    "\n",
    "Initializes `Dataset` and `Model` objects."
   ],
   "id": "ba507b965776881"
  },
  {
   "metadata": {
    "ExecuteTime": {
     "end_time": "2025-03-13T13:00:39.166924Z",
     "start_time": "2025-03-13T13:00:39.159871Z"
    }
   },
   "cell_type": "code",
   "source": [
    "dataset_config = DatasetConfig()\n",
    "model_config = ModelConfig()\n",
    "\n",
    "dataset = Dataset(config=dataset_config)\n",
    "model = Model(config=model_config)"
   ],
   "id": "d6b5245003fa7f7",
   "outputs": [],
   "execution_count": 7
  },
  {
   "metadata": {},
   "cell_type": "markdown",
   "source": [
    "### Loading and Inspecting the Dataset\n",
    "\n",
    "- Reads text files from `neg`/`pos` directories into a DataFrame.\n",
    "- Displays class distribution (`negatives`/`positives` counts).\n",
    "- Calculates average word count per class.\n",
    "- Lists most common words (pre/post cleaning).\n",
    "- Identifies top `n` frequent words per class.\n",
    "- Finds common/unique words between classes.\n"
   ],
   "id": "eac1270f95ceca40"
  },
  {
   "metadata": {
    "ExecuteTime": {
     "end_time": "2025-03-13T13:00:39.515322Z",
     "start_time": "2025-03-13T13:00:39.213660Z"
    }
   },
   "cell_type": "code",
   "source": [
    "dataset.load()\n",
    "\n",
    "dataset.info()"
   ],
   "id": "84ef5cbb8e5a13de",
   "outputs": [
    {
     "name": "stdout",
     "output_type": "stream",
     "text": [
      "Negatives :  848\n",
      "Positives :  806\n",
      "\n",
      "Common 10 Words Before Cleaning:\n",
      "\n",
      "Negatives          : [',', 'the', '.', 'a', 'and', 'of', 'to', 'is', 'in', '\"']\n",
      "\n",
      "Positives          : [',', 'the', '.', 'a', 'and', 'of', 'to', 'is', 'in', '\"']\n",
      "\n",
      "Commons (neg & pos): ['is', '\"', ',', 'a', '.', 'in', 'the', 'to', 'and', 'of']\n",
      "\n",
      "Only Negatives     : set()\n",
      "\n",
      "Only Positives     : set()\n"
     ]
    },
    {
     "data": {
      "text/plain": [
       "<Figure size 1000x300 with 1 Axes>"
      ],
      "image/png": "[encoded data removed]"
     },
     "metadata": {},
     "output_type": "display_data"
    }
   ],
   "execution_count": 8
  },
  {
   "metadata": {},
   "cell_type": "markdown",
   "source": [
    "### Model Training (without data cleaning)\n",
    "- Splits data into train/test sets (`stratify` enabled).\n",
    "- Vectorize the input data to turn it into features.\n",
    "- Trains the model using the training features and targets."
   ],
   "id": "c11746e179c0437c"
  },
  {
   "metadata": {
    "ExecuteTime": {
     "end_time": "2025-03-13T13:00:41.677133Z",
     "start_time": "2025-03-13T13:00:39.521899Z"
    }
   },
   "cell_type": "code",
   "source": [
    "train_inputs, test_inputs, train_target, test_target = dataset.split()\n",
    "\n",
    "train_features = model.vectorize(train_inputs, fit=True)\n",
    "test_features = model.vectorize(test_inputs, fit=False)\n",
    "\n",
    "model.fit(train_features, train_target)"
   ],
   "id": "ad1f7af9d7b8ba06",
   "outputs": [
    {
     "name": "stderr",
     "output_type": "stream",
     "text": [
      "\u001B[34m\u001B[1mwandb\u001B[0m: Using wandb-core as the SDK backend.  Please refer to https://wandb.me/wandb-core for more information.\n",
      "\u001B[34m\u001B[1mwandb\u001B[0m: Currently logged in as: \u001B[33mismaelmousa\u001B[0m (\u001B[33mresearch-devellopment\u001B[0m) to \u001B[32mhttps://api.wandb.ai\u001B[0m. Use \u001B[1m`wandb login --relogin`\u001B[0m to force relogin\n"
     ]
    },
    {
     "data": {
      "text/plain": [
       "<IPython.core.display.HTML object>"
      ],
      "text/html": [
       "Tracking run with wandb version 0.19.8"
      ]
     },
     "metadata": {},
     "output_type": "display_data"
    },
    {
     "data": {
      "text/plain": [
       "<IPython.core.display.HTML object>"
      ],
      "text/html": [
       "Run data is saved locally in <code>/home/ismael/Projects/sentiment-analysis/wandb/run-20250313_150040-iaavnl4p</code>"
      ]
     },
     "metadata": {},
     "output_type": "display_data"
    },
    {
     "data": {
      "text/plain": [
       "<IPython.core.display.HTML object>"
      ],
      "text/html": [
       "Syncing run <strong><a href='https://wandb.ai/research-devellopment/sentiment-analysis/runs/iaavnl4p' target=\"_blank\">Experiment-1</a></strong> to <a href='https://wandb.ai/research-devellopment/sentiment-analysis' target=\"_blank\">Weights & Biases</a> (<a href='https://wandb.me/developer-guide' target=\"_blank\">docs</a>)<br>"
      ]
     },
     "metadata": {},
     "output_type": "display_data"
    },
    {
     "data": {
      "text/plain": [
       "<IPython.core.display.HTML object>"
      ],
      "text/html": [
       " View project at <a href='https://wandb.ai/research-devellopment/sentiment-analysis' target=\"_blank\">https://wandb.ai/research-devellopment/sentiment-analysis</a>"
      ]
     },
     "metadata": {},
     "output_type": "display_data"
    },
    {
     "data": {
      "text/plain": [
       "<IPython.core.display.HTML object>"
      ],
      "text/html": [
       " View run at <a href='https://wandb.ai/research-devellopment/sentiment-analysis/runs/iaavnl4p' target=\"_blank\">https://wandb.ai/research-devellopment/sentiment-analysis/runs/iaavnl4p</a>"
      ]
     },
     "metadata": {},
     "output_type": "display_data"
    }
   ],
   "execution_count": 9
  },
  {
   "metadata": {},
   "cell_type": "markdown",
   "source": [
    "### Displaying the Confusion Matrix\n",
    "Visualizes the confusion matrix for the model's predictions on the test data, annotations: integer format (`fmt=\"d\"`)."
   ],
   "id": "afcddf8b17772c27"
  },
  {
   "metadata": {
    "ExecuteTime": {
     "end_time": "2025-03-13T13:00:41.892626Z",
     "start_time": "2025-03-13T13:00:41.729462Z"
    }
   },
   "cell_type": "code",
   "source": "model.display_confusion_matrix(test_features, test_target)",
   "id": "7f3409eb289902da",
   "outputs": [
    {
     "data": {
      "text/plain": [
       "<Figure size 640x480 with 2 Axes>"
      ],
      "image/png": "[encoded data removed]"
     },
     "metadata": {},
     "output_type": "display_data"
    }
   ],
   "execution_count": 10
  },
  {
   "metadata": {},
   "cell_type": "markdown",
   "source": [
    "### Model Performance Logging\n",
    "- Tracks metrics in W&B and stores results in a DataFrame.\n",
    "  - captures: train/test `loss`, `accuracy`, `F1`, `recall`, `precision`.\n",
    "  - metadata: model/vectorizer types and hyperparameters."
   ],
   "id": "39b6597c501402b8"
  },
  {
   "metadata": {
    "ExecuteTime": {
     "end_time": "2025-03-13T13:00:44.047060Z",
     "start_time": "2025-03-13T13:00:41.905224Z"
    }
   },
   "cell_type": "code",
   "source": [
    "train_results = model.evaluate(train_features, train_target)\n",
    "test_results = model.evaluate(test_features, test_target)\n",
    "\n",
    "model.log(train_results=train_results, test_results=test_results)"
   ],
   "id": "2f3d5eadf89f7843",
   "outputs": [
    {
     "data": {
      "text/plain": [
       "<IPython.core.display.HTML object>"
      ],
      "text/html": []
     },
     "metadata": {},
     "output_type": "display_data"
    },
    {
     "data": {
      "text/plain": [
       "<IPython.core.display.HTML object>"
      ],
      "text/html": [
       "<br>    <style><br>        .wandb-row {<br>            display: flex;<br>            flex-direction: row;<br>            flex-wrap: wrap;<br>            justify-content: flex-start;<br>            width: 100%;<br>        }<br>        .wandb-col {<br>            display: flex;<br>            flex-direction: column;<br>            flex-basis: 100%;<br>            flex: 1;<br>            padding: 10px;<br>        }<br>    </style><br><div class=\"wandb-row\"><div class=\"wandb-col\"><h3>Run history:</h3><br/><table class=\"wandb\"><tr><td>test_accuracy</td><td>▁</td></tr><tr><td>test_f1</td><td>▁</td></tr><tr><td>test_loss</td><td>▁</td></tr><tr><td>test_precision</td><td>▁</td></tr><tr><td>test_recall</td><td>▁</td></tr><tr><td>train_accuracy</td><td>▁</td></tr><tr><td>train_f1</td><td>▁</td></tr><tr><td>train_loss</td><td>▁</td></tr><tr><td>train_precision</td><td>▁</td></tr><tr><td>train_recall</td><td>▁</td></tr></table><br/></div><div class=\"wandb-col\"><h3>Run summary:</h3><br/><table class=\"wandb\"><tr><td>test_accuracy</td><td>0.7311</td></tr><tr><td>test_f1</td><td>0.7126</td></tr><tr><td>test_loss</td><td>0.5518</td></tr><tr><td>test_precision</td><td>0.792</td></tr><tr><td>test_recall</td><td>0.7248</td></tr><tr><td>train_accuracy</td><td>0.9418</td></tr><tr><td>train_f1</td><td>0.9414</td></tr><tr><td>train_loss</td><td>0.3937</td></tr><tr><td>train_precision</td><td>0.9483</td></tr><tr><td>train_recall</td><td>0.9404</td></tr></table><br/></div></div>"
      ]
     },
     "metadata": {},
     "output_type": "display_data"
    },
    {
     "data": {
      "text/plain": [
       "<IPython.core.display.HTML object>"
      ],
      "text/html": [
       " View run <strong style=\"color:#cdcd00\">Experiment-1</strong> at: <a href='https://wandb.ai/research-devellopment/sentiment-analysis/runs/iaavnl4p' target=\"_blank\">https://wandb.ai/research-devellopment/sentiment-analysis/runs/iaavnl4p</a><br> View project at: <a href='https://wandb.ai/research-devellopment/sentiment-analysis' target=\"_blank\">https://wandb.ai/research-devellopment/sentiment-analysis</a><br>Synced 5 W&B file(s), 0 media file(s), 0 artifact file(s) and 0 other file(s)"
      ]
     },
     "metadata": {},
     "output_type": "display_data"
    },
    {
     "data": {
      "text/plain": [
       "<IPython.core.display.HTML object>"
      ],
      "text/html": [
       "Find logs at: <code>./wandb/run-20250313_150040-iaavnl4p/logs</code>"
      ]
     },
     "metadata": {},
     "output_type": "display_data"
    },
    {
     "data": {
      "text/plain": [
       "           model       vectorizer  train_loss  train_accuracy  train_f1  \\\n",
       "0  MultinomialNB  TfidfVectorizer      0.3937          0.9418    0.9414   \n",
       "\n",
       "   train_recall  train_precision  test_loss  test_accuracy  test_f1  \\\n",
       "0        0.9404           0.9483     0.5518         0.7311   0.7126   \n",
       "\n",
       "   test_recall  test_precision  \n",
       "0       0.7248           0.792  "
      ],
      "text/html": [
       "<div>\n",
       "<style scoped>\n",
       "    .dataframe tbody tr th:only-of-type {\n",
       "        vertical-align: middle;\n",
       "    }\n",
       "\n",
       "    .dataframe tbody tr th {\n",
       "        vertical-align: top;\n",
       "    }\n",
       "\n",
       "    .dataframe thead th {\n",
       "        text-align: right;\n",
       "    }\n",
       "</style>\n",
       "<table border=\"1\" class=\"dataframe\">\n",
       "  <thead>\n",
       "    <tr style=\"text-align: right;\">\n",
       "      <th></th>\n",
       "      <th>model</th>\n",
       "      <th>vectorizer</th>\n",
       "      <th>train_loss</th>\n",
       "      <th>train_accuracy</th>\n",
       "      <th>train_f1</th>\n",
       "      <th>train_recall</th>\n",
       "      <th>train_precision</th>\n",
       "      <th>test_loss</th>\n",
       "      <th>test_accuracy</th>\n",
       "      <th>test_f1</th>\n",
       "      <th>test_recall</th>\n",
       "      <th>test_precision</th>\n",
       "    </tr>\n",
       "  </thead>\n",
       "  <tbody>\n",
       "    <tr>\n",
       "      <th>0</th>\n",
       "      <td>MultinomialNB</td>\n",
       "      <td>TfidfVectorizer</td>\n",
       "      <td>0.3937</td>\n",
       "      <td>0.9418</td>\n",
       "      <td>0.9414</td>\n",
       "      <td>0.9404</td>\n",
       "      <td>0.9483</td>\n",
       "      <td>0.5518</td>\n",
       "      <td>0.7311</td>\n",
       "      <td>0.7126</td>\n",
       "      <td>0.7248</td>\n",
       "      <td>0.792</td>\n",
       "    </tr>\n",
       "  </tbody>\n",
       "</table>\n",
       "</div>"
      ]
     },
     "execution_count": 11,
     "metadata": {},
     "output_type": "execute_result"
    }
   ],
   "execution_count": 11
  },
  {
   "metadata": {},
   "cell_type": "markdown",
   "source": [
    "### Text Cleaning Pipeline\n",
    "1. HTML Tag Removal: Uses `BeautifulSoup`.\n",
    "2. Negation Normalization: Expands contractions (e.g., `\"can't\"` → `\"can not\"`).\n",
    "3. Non-Alphanumeric Filtering: Regex-based cleanup.\n",
    "4. Lowercasing, Stopword Removal, Lemmatization.\n",
    "5. Label Conversion: Maps labels to numerical IDs."
   ],
   "id": "1392a0bca0c8e750"
  },
  {
   "metadata": {
    "ExecuteTime": {
     "end_time": "2025-03-13T13:00:52.405159Z",
     "start_time": "2025-03-13T13:00:44.092828Z"
    }
   },
   "cell_type": "code",
   "source": [
    "dataset.clean()\n",
    "\n",
    "dataset.info(n=20)"
   ],
   "id": "ec9edf7c548757e9",
   "outputs": [
    {
     "name": "stdout",
     "output_type": "stream",
     "text": [
      "Negatives :  848\n",
      "Positives :  806\n",
      "\n",
      "Common 20 Words After Cleaning:\n",
      "\n",
      "Negatives          : ['not', 'film', 'movie', 'like', 'character', 'make', 'time', 'no', 'scene', 'good', 'play', 'look', 'bad', 'go', 'plot', 'story', 'know', 'get', 'come', 'think']\n",
      "\n",
      "Positives          : ['film', 'not', 'movie', 'character', 'like', 'make', 'time', 'scene', 'story', 'good', 'life', 'play', 'no', 'way', 'come', 'year', 'end', 'know', 'go', 'work']\n",
      "\n",
      "Commons (neg & pos): ['no', 'character', 'film', 'scene', 'not', 'good', 'make', 'come', 'story', 'play', 'movie', 'time', 'go', 'know', 'like']\n",
      "\n",
      "Only Negatives     : {'bad', 'get', 'plot', 'look', 'think'}\n",
      "\n",
      "Only Positives     : {'end', 'way', 'year', 'life', 'work'}\n"
     ]
    },
    {
     "data": {
      "text/plain": [
       "<Figure size 1000x300 with 1 Axes>"
      ],
      "image/png": "[encoded data removed]"
     },
     "metadata": {},
     "output_type": "display_data"
    }
   ],
   "execution_count": 12
  },
  {
   "metadata": {},
   "cell_type": "markdown",
   "source": [
    "### Model Training (with data cleaning)\n",
    "- Splits data into train/test sets (`stratify` enabled).\n",
    "- Vectorize the input data to turn it into features.\n",
    "- Trains the model using the training features and targets."
   ],
   "id": "f1d506166a540377"
  },
  {
   "metadata": {
    "ExecuteTime": {
     "end_time": "2025-03-13T13:00:53.396186Z",
     "start_time": "2025-03-13T13:00:52.450758Z"
    }
   },
   "cell_type": "code",
   "source": [
    "train_inputs, test_inputs, train_target, test_target = dataset.split()\n",
    "\n",
    "train_features = model.vectorize(train_inputs, fit=True)\n",
    "test_features = model.vectorize(test_inputs, fit=False)\n",
    "\n",
    "model.fit(train_features, train_target)"
   ],
   "id": "d0c94d6a66802166",
   "outputs": [
    {
     "data": {
      "text/plain": [
       "<IPython.core.display.HTML object>"
      ],
      "text/html": [
       "Tracking run with wandb version 0.19.8"
      ]
     },
     "metadata": {},
     "output_type": "display_data"
    },
    {
     "data": {
      "text/plain": [
       "<IPython.core.display.HTML object>"
      ],
      "text/html": [
       "Run data is saved locally in <code>/home/ismael/Projects/sentiment-analysis/wandb/run-20250313_150052-c6v2nrmp</code>"
      ]
     },
     "metadata": {},
     "output_type": "display_data"
    },
    {
     "data": {
      "text/plain": [
       "<IPython.core.display.HTML object>"
      ],
      "text/html": [
       "Syncing run <strong><a href='https://wandb.ai/research-devellopment/sentiment-analysis/runs/c6v2nrmp' target=\"_blank\">Experiment-2</a></strong> to <a href='https://wandb.ai/research-devellopment/sentiment-analysis' target=\"_blank\">Weights & Biases</a> (<a href='https://wandb.me/developer-guide' target=\"_blank\">docs</a>)<br>"
      ]
     },
     "metadata": {},
     "output_type": "display_data"
    },
    {
     "data": {
      "text/plain": [
       "<IPython.core.display.HTML object>"
      ],
      "text/html": [
       " View project at <a href='https://wandb.ai/research-devellopment/sentiment-analysis' target=\"_blank\">https://wandb.ai/research-devellopment/sentiment-analysis</a>"
      ]
     },
     "metadata": {},
     "output_type": "display_data"
    },
    {
     "data": {
      "text/plain": [
       "<IPython.core.display.HTML object>"
      ],
      "text/html": [
       " View run at <a href='https://wandb.ai/research-devellopment/sentiment-analysis/runs/c6v2nrmp' target=\"_blank\">https://wandb.ai/research-devellopment/sentiment-analysis/runs/c6v2nrmp</a>"
      ]
     },
     "metadata": {},
     "output_type": "display_data"
    }
   ],
   "execution_count": 13
  },
  {
   "metadata": {},
   "cell_type": "markdown",
   "source": "#### Notice there is an improvement on the performance `(TN: 158, TP: 93)` after cleaning.",
   "id": "5266fad52cc2bc50"
  },
  {
   "metadata": {
    "ExecuteTime": {
     "end_time": "2025-03-13T13:00:53.533011Z",
     "start_time": "2025-03-13T13:00:53.407595Z"
    }
   },
   "cell_type": "code",
   "source": "model.display_confusion_matrix(test_features, test_target)",
   "id": "7ac0ecbfec34d62b",
   "outputs": [
    {
     "data": {
      "text/plain": [
       "<Figure size 640x480 with 2 Axes>"
      ],
      "image/png": "[encoded data removed]"
     },
     "metadata": {},
     "output_type": "display_data"
    }
   ],
   "execution_count": 14
  },
  {
   "metadata": {
    "ExecuteTime": {
     "end_time": "2025-03-13T13:00:55.127015Z",
     "start_time": "2025-03-13T13:00:53.544238Z"
    }
   },
   "cell_type": "code",
   "source": [
    "train_results = model.evaluate(train_features, train_target)\n",
    "test_results = model.evaluate(test_features,  test_target)\n",
    "\n",
    "model.log(train_results=train_results, test_results=test_results)"
   ],
   "id": "37f9d16c2cd1752a",
   "outputs": [
    {
     "data": {
      "text/plain": [
       "<IPython.core.display.HTML object>"
      ],
      "text/html": []
     },
     "metadata": {},
     "output_type": "display_data"
    },
    {
     "data": {
      "text/plain": [
       "<IPython.core.display.HTML object>"
      ],
      "text/html": [
       "<br>    <style><br>        .wandb-row {<br>            display: flex;<br>            flex-direction: row;<br>            flex-wrap: wrap;<br>            justify-content: flex-start;<br>            width: 100%;<br>        }<br>        .wandb-col {<br>            display: flex;<br>            flex-direction: column;<br>            flex-basis: 100%;<br>            flex: 1;<br>            padding: 10px;<br>        }<br>    </style><br><div class=\"wandb-row\"><div class=\"wandb-col\"><h3>Run history:</h3><br/><table class=\"wandb\"><tr><td>test_accuracy</td><td>▁</td></tr><tr><td>test_f1</td><td>▁</td></tr><tr><td>test_loss</td><td>▁</td></tr><tr><td>test_precision</td><td>▁</td></tr><tr><td>test_recall</td><td>▁</td></tr><tr><td>train_accuracy</td><td>▁</td></tr><tr><td>train_f1</td><td>▁</td></tr><tr><td>train_loss</td><td>▁</td></tr><tr><td>train_precision</td><td>▁</td></tr><tr><td>train_recall</td><td>▁</td></tr></table><br/></div><div class=\"wandb-col\"><h3>Run summary:</h3><br/><table class=\"wandb\"><tr><td>test_accuracy</td><td>0.7583</td></tr><tr><td>test_f1</td><td>0.7486</td></tr><tr><td>test_loss</td><td>0.5275</td></tr><tr><td>test_precision</td><td>0.7924</td></tr><tr><td>test_recall</td><td>0.7535</td></tr><tr><td>train_accuracy</td><td>0.9622</td></tr><tr><td>train_f1</td><td>0.9621</td></tr><tr><td>train_loss</td><td>0.3512</td></tr><tr><td>train_precision</td><td>0.9643</td></tr><tr><td>train_recall</td><td>0.9615</td></tr></table><br/></div></div>"
      ]
     },
     "metadata": {},
     "output_type": "display_data"
    },
    {
     "data": {
      "text/plain": [
       "<IPython.core.display.HTML object>"
      ],
      "text/html": [
       " View run <strong style=\"color:#cdcd00\">Experiment-2</strong> at: <a href='https://wandb.ai/research-devellopment/sentiment-analysis/runs/c6v2nrmp' target=\"_blank\">https://wandb.ai/research-devellopment/sentiment-analysis/runs/c6v2nrmp</a><br> View project at: <a href='https://wandb.ai/research-devellopment/sentiment-analysis' target=\"_blank\">https://wandb.ai/research-devellopment/sentiment-analysis</a><br>Synced 5 W&B file(s), 0 media file(s), 0 artifact file(s) and 0 other file(s)"
      ]
     },
     "metadata": {},
     "output_type": "display_data"
    },
    {
     "data": {
      "text/plain": [
       "<IPython.core.display.HTML object>"
      ],
      "text/html": [
       "Find logs at: <code>./wandb/run-20250313_150052-c6v2nrmp/logs</code>"
      ]
     },
     "metadata": {},
     "output_type": "display_data"
    },
    {
     "data": {
      "text/plain": [
       "           model       vectorizer  train_loss  train_accuracy  train_f1  \\\n",
       "0  MultinomialNB  TfidfVectorizer      0.3937          0.9418    0.9414   \n",
       "1  MultinomialNB  TfidfVectorizer      0.3512          0.9622    0.9621   \n",
       "\n",
       "   train_recall  train_precision  test_loss  test_accuracy  test_f1  \\\n",
       "0        0.9404           0.9483     0.5518         0.7311   0.7126   \n",
       "1        0.9615           0.9643     0.5275         0.7583   0.7486   \n",
       "\n",
       "   test_recall  test_precision  \n",
       "0       0.7248          0.7920  \n",
       "1       0.7535          0.7924  "
      ],
      "text/html": [
       "<div>\n",
       "<style scoped>\n",
       "    .dataframe tbody tr th:only-of-type {\n",
       "        vertical-align: middle;\n",
       "    }\n",
       "\n",
       "    .dataframe tbody tr th {\n",
       "        vertical-align: top;\n",
       "    }\n",
       "\n",
       "    .dataframe thead th {\n",
       "        text-align: right;\n",
       "    }\n",
       "</style>\n",
       "<table border=\"1\" class=\"dataframe\">\n",
       "  <thead>\n",
       "    <tr style=\"text-align: right;\">\n",
       "      <th></th>\n",
       "      <th>model</th>\n",
       "      <th>vectorizer</th>\n",
       "      <th>train_loss</th>\n",
       "      <th>train_accuracy</th>\n",
       "      <th>train_f1</th>\n",
       "      <th>train_recall</th>\n",
       "      <th>train_precision</th>\n",
       "      <th>test_loss</th>\n",
       "      <th>test_accuracy</th>\n",
       "      <th>test_f1</th>\n",
       "      <th>test_recall</th>\n",
       "      <th>test_precision</th>\n",
       "    </tr>\n",
       "  </thead>\n",
       "  <tbody>\n",
       "    <tr>\n",
       "      <th>0</th>\n",
       "      <td>MultinomialNB</td>\n",
       "      <td>TfidfVectorizer</td>\n",
       "      <td>0.3937</td>\n",
       "      <td>0.9418</td>\n",
       "      <td>0.9414</td>\n",
       "      <td>0.9404</td>\n",
       "      <td>0.9483</td>\n",
       "      <td>0.5518</td>\n",
       "      <td>0.7311</td>\n",
       "      <td>0.7126</td>\n",
       "      <td>0.7248</td>\n",
       "      <td>0.7920</td>\n",
       "    </tr>\n",
       "    <tr>\n",
       "      <th>1</th>\n",
       "      <td>MultinomialNB</td>\n",
       "      <td>TfidfVectorizer</td>\n",
       "      <td>0.3512</td>\n",
       "      <td>0.9622</td>\n",
       "      <td>0.9621</td>\n",
       "      <td>0.9615</td>\n",
       "      <td>0.9643</td>\n",
       "      <td>0.5275</td>\n",
       "      <td>0.7583</td>\n",
       "      <td>0.7486</td>\n",
       "      <td>0.7535</td>\n",
       "      <td>0.7924</td>\n",
       "    </tr>\n",
       "  </tbody>\n",
       "</table>\n",
       "</div>"
      ]
     },
     "execution_count": 15,
     "metadata": {},
     "output_type": "execute_result"
    }
   ],
   "execution_count": 15
  },
  {
   "metadata": {},
   "cell_type": "markdown",
   "source": [
    "### Updating the Model Configuration (vectorizer)\n",
    "Update the vectorizer `min_dif` and `max_df` hyperparameters.\n",
    "\n",
    "After updating these configurations, the Model instance is reinitialized with the new settings, ensuring that the model uses the updated parameters for vectorization."
   ],
   "id": "3307b73f8757cc34"
  },
  {
   "metadata": {
    "ExecuteTime": {
     "end_time": "2025-03-13T13:00:55.187862Z",
     "start_time": "2025-03-13T13:00:55.183078Z"
    }
   },
   "cell_type": "code",
   "source": [
    "model_config.vectorizer_params = {\"min_df\": 6, \"max_df\": 0.7}\n",
    "\n",
    "model = Model(model_config)"
   ],
   "id": "db33539a70ceece1",
   "outputs": [],
   "execution_count": 16
  },
  {
   "metadata": {
    "ExecuteTime": {
     "end_time": "2025-03-13T13:00:56.237242Z",
     "start_time": "2025-03-13T13:00:55.258412Z"
    }
   },
   "cell_type": "code",
   "source": [
    "train_features = model.vectorize(train_inputs, fit=True)\n",
    "test_features = model.vectorize(test_inputs, fit=False)\n",
    "\n",
    "model.fit(train_features, train_target)"
   ],
   "id": "c78e3e358e93a24c",
   "outputs": [
    {
     "data": {
      "text/plain": [
       "<IPython.core.display.HTML object>"
      ],
      "text/html": [
       "Tracking run with wandb version 0.19.8"
      ]
     },
     "metadata": {},
     "output_type": "display_data"
    },
    {
     "data": {
      "text/plain": [
       "<IPython.core.display.HTML object>"
      ],
      "text/html": [
       "Run data is saved locally in <code>/home/ismael/Projects/sentiment-analysis/wandb/run-20250313_150055-bnhkfmtz</code>"
      ]
     },
     "metadata": {},
     "output_type": "display_data"
    },
    {
     "data": {
      "text/plain": [
       "<IPython.core.display.HTML object>"
      ],
      "text/html": [
       "Syncing run <strong><a href='https://wandb.ai/research-devellopment/sentiment-analysis/runs/bnhkfmtz' target=\"_blank\">Experiment-3</a></strong> to <a href='https://wandb.ai/research-devellopment/sentiment-analysis' target=\"_blank\">Weights & Biases</a> (<a href='https://wandb.me/developer-guide' target=\"_blank\">docs</a>)<br>"
      ]
     },
     "metadata": {},
     "output_type": "display_data"
    },
    {
     "data": {
      "text/plain": [
       "<IPython.core.display.HTML object>"
      ],
      "text/html": [
       " View project at <a href='https://wandb.ai/research-devellopment/sentiment-analysis' target=\"_blank\">https://wandb.ai/research-devellopment/sentiment-analysis</a>"
      ]
     },
     "metadata": {},
     "output_type": "display_data"
    },
    {
     "data": {
      "text/plain": [
       "<IPython.core.display.HTML object>"
      ],
      "text/html": [
       " View run at <a href='https://wandb.ai/research-devellopment/sentiment-analysis/runs/bnhkfmtz' target=\"_blank\">https://wandb.ai/research-devellopment/sentiment-analysis/runs/bnhkfmtz</a>"
      ]
     },
     "metadata": {},
     "output_type": "display_data"
    }
   ],
   "execution_count": 17
  },
  {
   "metadata": {},
   "cell_type": "markdown",
   "source": "#### Notice there is an improvement on the performance `(TN: 159, TP: 115)`, after updating the vectorizer hyperparameters.",
   "id": "4e9f4b1bf11e5103"
  },
  {
   "metadata": {
    "ExecuteTime": {
     "end_time": "2025-03-13T13:00:56.395786Z",
     "start_time": "2025-03-13T13:00:56.252248Z"
    }
   },
   "cell_type": "code",
   "source": "model.display_confusion_matrix(test_features, test_target)",
   "id": "ca324b1016ba04b4",
   "outputs": [
    {
     "data": {
      "text/plain": [
       "<Figure size 640x480 with 2 Axes>"
      ],
      "image/png": "[encoded data removed]"
     },
     "metadata": {},
     "output_type": "display_data"
    }
   ],
   "execution_count": 18
  },
  {
   "metadata": {
    "ExecuteTime": {
     "end_time": "2025-03-13T13:00:57.832322Z",
     "start_time": "2025-03-13T13:00:56.404367Z"
    }
   },
   "cell_type": "code",
   "source": [
    "train_results = model.evaluate(train_features, train_target)\n",
    "test_results = model.evaluate(test_features, test_target)\n",
    "\n",
    "model.log(train_results=train_results, test_results=test_results)"
   ],
   "id": "a2fb16654657147",
   "outputs": [
    {
     "data": {
      "text/plain": [
       "<IPython.core.display.HTML object>"
      ],
      "text/html": []
     },
     "metadata": {},
     "output_type": "display_data"
    },
    {
     "data": {
      "text/plain": [
       "<IPython.core.display.HTML object>"
      ],
      "text/html": [
       "<br>    <style><br>        .wandb-row {<br>            display: flex;<br>            flex-direction: row;<br>            flex-wrap: wrap;<br>            justify-content: flex-start;<br>            width: 100%;<br>        }<br>        .wandb-col {<br>            display: flex;<br>            flex-direction: column;<br>            flex-basis: 100%;<br>            flex: 1;<br>            padding: 10px;<br>        }<br>    </style><br><div class=\"wandb-row\"><div class=\"wandb-col\"><h3>Run history:</h3><br/><table class=\"wandb\"><tr><td>test_accuracy</td><td>▁</td></tr><tr><td>test_f1</td><td>▁</td></tr><tr><td>test_loss</td><td>▁</td></tr><tr><td>test_precision</td><td>▁</td></tr><tr><td>test_recall</td><td>▁</td></tr><tr><td>train_accuracy</td><td>▁</td></tr><tr><td>train_f1</td><td>▁</td></tr><tr><td>train_loss</td><td>▁</td></tr><tr><td>train_precision</td><td>▁</td></tr><tr><td>train_recall</td><td>▁</td></tr></table><br/></div><div class=\"wandb-col\"><h3>Run summary:</h3><br/><table class=\"wandb\"><tr><td>test_accuracy</td><td>0.8278</td></tr><tr><td>test_f1</td><td>0.8247</td></tr><tr><td>test_loss</td><td>0.5057</td></tr><tr><td>test_precision</td><td>0.8442</td></tr><tr><td>test_recall</td><td>0.8248</td></tr><tr><td>train_accuracy</td><td>0.9456</td></tr><tr><td>train_f1</td><td>0.9454</td></tr><tr><td>train_loss</td><td>0.3757</td></tr><tr><td>train_precision</td><td>0.9472</td></tr><tr><td>train_recall</td><td>0.9449</td></tr></table><br/></div></div>"
      ]
     },
     "metadata": {},
     "output_type": "display_data"
    },
    {
     "data": {
      "text/plain": [
       "<IPython.core.display.HTML object>"
      ],
      "text/html": [
       " View run <strong style=\"color:#cdcd00\">Experiment-3</strong> at: <a href='https://wandb.ai/research-devellopment/sentiment-analysis/runs/bnhkfmtz' target=\"_blank\">https://wandb.ai/research-devellopment/sentiment-analysis/runs/bnhkfmtz</a><br> View project at: <a href='https://wandb.ai/research-devellopment/sentiment-analysis' target=\"_blank\">https://wandb.ai/research-devellopment/sentiment-analysis</a><br>Synced 5 W&B file(s), 0 media file(s), 0 artifact file(s) and 0 other file(s)"
      ]
     },
     "metadata": {},
     "output_type": "display_data"
    },
    {
     "data": {
      "text/plain": [
       "<IPython.core.display.HTML object>"
      ],
      "text/html": [
       "Find logs at: <code>./wandb/run-20250313_150055-bnhkfmtz/logs</code>"
      ]
     },
     "metadata": {},
     "output_type": "display_data"
    },
    {
     "data": {
      "text/plain": [
       "           model       vectorizer  train_loss  train_accuracy  train_f1  \\\n",
       "0  MultinomialNB  TfidfVectorizer      0.3937          0.9418    0.9414   \n",
       "1  MultinomialNB  TfidfVectorizer      0.3512          0.9622    0.9621   \n",
       "2  MultinomialNB  TfidfVectorizer      0.3757          0.9456    0.9454   \n",
       "\n",
       "   train_recall  train_precision  test_loss  test_accuracy  test_f1  \\\n",
       "0        0.9404           0.9483     0.5518         0.7311   0.7126   \n",
       "1        0.9615           0.9643     0.5275         0.7583   0.7486   \n",
       "2        0.9449           0.9472     0.5057         0.8278   0.8247   \n",
       "\n",
       "   test_recall  test_precision  min_df  max_df  \n",
       "0       0.7248          0.7920     NaN     NaN  \n",
       "1       0.7535          0.7924     NaN     NaN  \n",
       "2       0.8248          0.8442     6.0     0.7  "
      ],
      "text/html": [
       "<div>\n",
       "<style scoped>\n",
       "    .dataframe tbody tr th:only-of-type {\n",
       "        vertical-align: middle;\n",
       "    }\n",
       "\n",
       "    .dataframe tbody tr th {\n",
       "        vertical-align: top;\n",
       "    }\n",
       "\n",
       "    .dataframe thead th {\n",
       "        text-align: right;\n",
       "    }\n",
       "</style>\n",
       "<table border=\"1\" class=\"dataframe\">\n",
       "  <thead>\n",
       "    <tr style=\"text-align: right;\">\n",
       "      <th></th>\n",
       "      <th>model</th>\n",
       "      <th>vectorizer</th>\n",
       "      <th>train_loss</th>\n",
       "      <th>train_accuracy</th>\n",
       "      <th>train_f1</th>\n",
       "      <th>train_recall</th>\n",
       "      <th>train_precision</th>\n",
       "      <th>test_loss</th>\n",
       "      <th>test_accuracy</th>\n",
       "      <th>test_f1</th>\n",
       "      <th>test_recall</th>\n",
       "      <th>test_precision</th>\n",
       "      <th>min_df</th>\n",
       "      <th>max_df</th>\n",
       "    </tr>\n",
       "  </thead>\n",
       "  <tbody>\n",
       "    <tr>\n",
       "      <th>0</th>\n",
       "      <td>MultinomialNB</td>\n",
       "      <td>TfidfVectorizer</td>\n",
       "      <td>0.3937</td>\n",
       "      <td>0.9418</td>\n",
       "      <td>0.9414</td>\n",
       "      <td>0.9404</td>\n",
       "      <td>0.9483</td>\n",
       "      <td>0.5518</td>\n",
       "      <td>0.7311</td>\n",
       "      <td>0.7126</td>\n",
       "      <td>0.7248</td>\n",
       "      <td>0.7920</td>\n",
       "      <td>NaN</td>\n",
       "      <td>NaN</td>\n",
       "    </tr>\n",
       "    <tr>\n",
       "      <th>1</th>\n",
       "      <td>MultinomialNB</td>\n",
       "      <td>TfidfVectorizer</td>\n",
       "      <td>0.3512</td>\n",
       "      <td>0.9622</td>\n",
       "      <td>0.9621</td>\n",
       "      <td>0.9615</td>\n",
       "      <td>0.9643</td>\n",
       "      <td>0.5275</td>\n",
       "      <td>0.7583</td>\n",
       "      <td>0.7486</td>\n",
       "      <td>0.7535</td>\n",
       "      <td>0.7924</td>\n",
       "      <td>NaN</td>\n",
       "      <td>NaN</td>\n",
       "    </tr>\n",
       "    <tr>\n",
       "      <th>2</th>\n",
       "      <td>MultinomialNB</td>\n",
       "      <td>TfidfVectorizer</td>\n",
       "      <td>0.3757</td>\n",
       "      <td>0.9456</td>\n",
       "      <td>0.9454</td>\n",
       "      <td>0.9449</td>\n",
       "      <td>0.9472</td>\n",
       "      <td>0.5057</td>\n",
       "      <td>0.8278</td>\n",
       "      <td>0.8247</td>\n",
       "      <td>0.8248</td>\n",
       "      <td>0.8442</td>\n",
       "      <td>6.0</td>\n",
       "      <td>0.7</td>\n",
       "    </tr>\n",
       "  </tbody>\n",
       "</table>\n",
       "</div>"
      ]
     },
     "execution_count": 19,
     "metadata": {},
     "output_type": "execute_result"
    }
   ],
   "execution_count": 19
  },
  {
   "metadata": {},
   "cell_type": "markdown",
   "source": [
    "### Updating the Model Configuration (model)\n",
    "The model is set to RandomForestClassifier, and the model parameters are updated in the model configurations."
   ],
   "id": "5e0b47466d8cb238"
  },
  {
   "metadata": {
    "ExecuteTime": {
     "end_time": "2025-03-13T13:00:59.608099Z",
     "start_time": "2025-03-13T13:00:57.912647Z"
    }
   },
   "cell_type": "code",
   "source": [
    "model_config.model_params = {\"random_state\": 42}\n",
    "model_config.model = RandomForestClassifier()\n",
    "\n",
    "model = Model(model_config)\n",
    "\n",
    "model.fit(train_features, train_target)"
   ],
   "id": "821b474742f034cf",
   "outputs": [
    {
     "data": {
      "text/plain": [
       "<IPython.core.display.HTML object>"
      ],
      "text/html": [
       "Tracking run with wandb version 0.19.8"
      ]
     },
     "metadata": {},
     "output_type": "display_data"
    },
    {
     "data": {
      "text/plain": [
       "<IPython.core.display.HTML object>"
      ],
      "text/html": [
       "Run data is saved locally in <code>/home/ismael/Projects/sentiment-analysis/wandb/run-20250313_150057-1a4427x3</code>"
      ]
     },
     "metadata": {},
     "output_type": "display_data"
    },
    {
     "data": {
      "text/plain": [
       "<IPython.core.display.HTML object>"
      ],
      "text/html": [
       "Syncing run <strong><a href='https://wandb.ai/research-devellopment/sentiment-analysis/runs/1a4427x3' target=\"_blank\">Experiment-4</a></strong> to <a href='https://wandb.ai/research-devellopment/sentiment-analysis' target=\"_blank\">Weights & Biases</a> (<a href='https://wandb.me/developer-guide' target=\"_blank\">docs</a>)<br>"
      ]
     },
     "metadata": {},
     "output_type": "display_data"
    },
    {
     "data": {
      "text/plain": [
       "<IPython.core.display.HTML object>"
      ],
      "text/html": [
       " View project at <a href='https://wandb.ai/research-devellopment/sentiment-analysis' target=\"_blank\">https://wandb.ai/research-devellopment/sentiment-analysis</a>"
      ]
     },
     "metadata": {},
     "output_type": "display_data"
    },
    {
     "data": {
      "text/plain": [
       "<IPython.core.display.HTML object>"
      ],
      "text/html": [
       " View run at <a href='https://wandb.ai/research-devellopment/sentiment-analysis/runs/1a4427x3' target=\"_blank\">https://wandb.ai/research-devellopment/sentiment-analysis/runs/1a4427x3</a>"
      ]
     },
     "metadata": {},
     "output_type": "display_data"
    }
   ],
   "execution_count": 20
  },
  {
   "metadata": {},
   "cell_type": "markdown",
   "source": "#### Notice there is a decline in the performance `(TN: 151, TP: 116)`, after setting the model to RandomForestClassifier.",
   "id": "bab0f426391e9150"
  },
  {
   "metadata": {
    "ExecuteTime": {
     "end_time": "2025-03-13T13:00:59.807640Z",
     "start_time": "2025-03-13T13:00:59.645570Z"
    }
   },
   "cell_type": "code",
   "source": "model.display_confusion_matrix(test_features, test_target)",
   "id": "9c1fb78176df49de",
   "outputs": [
    {
     "data": {
      "text/plain": [
       "<Figure size 640x480 with 2 Axes>"
      ],
      "image/png": "[encoded data removed]"
     },
     "metadata": {},
     "output_type": "display_data"
    }
   ],
   "execution_count": 21
  },
  {
   "metadata": {
    "ExecuteTime": {
     "end_time": "2025-03-13T13:01:01.445964Z",
     "start_time": "2025-03-13T13:00:59.823863Z"
    }
   },
   "cell_type": "code",
   "source": [
    "train_results = model.evaluate(train_features, train_target)\n",
    "test_results = model.evaluate(test_features, test_target)\n",
    "\n",
    "model.log(train_results=train_results, test_results=test_results)"
   ],
   "id": "e9be4fb8b8991f82",
   "outputs": [
    {
     "data": {
      "text/plain": [
       "<IPython.core.display.HTML object>"
      ],
      "text/html": []
     },
     "metadata": {},
     "output_type": "display_data"
    },
    {
     "data": {
      "text/plain": [
       "<IPython.core.display.HTML object>"
      ],
      "text/html": [
       "<br>    <style><br>        .wandb-row {<br>            display: flex;<br>            flex-direction: row;<br>            flex-wrap: wrap;<br>            justify-content: flex-start;<br>            width: 100%;<br>        }<br>        .wandb-col {<br>            display: flex;<br>            flex-direction: column;<br>            flex-basis: 100%;<br>            flex: 1;<br>            padding: 10px;<br>        }<br>    </style><br><div class=\"wandb-row\"><div class=\"wandb-col\"><h3>Run history:</h3><br/><table class=\"wandb\"><tr><td>test_accuracy</td><td>▁</td></tr><tr><td>test_f1</td><td>▁</td></tr><tr><td>test_loss</td><td>▁</td></tr><tr><td>test_precision</td><td>▁</td></tr><tr><td>test_recall</td><td>▁</td></tr><tr><td>train_accuracy</td><td>▁</td></tr><tr><td>train_f1</td><td>▁</td></tr><tr><td>train_loss</td><td>▁</td></tr><tr><td>train_precision</td><td>▁</td></tr><tr><td>train_recall</td><td>▁</td></tr></table><br/></div><div class=\"wandb-col\"><h3>Run summary:</h3><br/><table class=\"wandb\"><tr><td>test_accuracy</td><td>0.8066</td></tr><tr><td>test_f1</td><td>0.8045</td></tr><tr><td>test_loss</td><td>0.5392</td></tr><tr><td>test_precision</td><td>0.8148</td></tr><tr><td>test_recall</td><td>0.8044</td></tr><tr><td>train_accuracy</td><td>1</td></tr><tr><td>train_f1</td><td>1</td></tr><tr><td>train_loss</td><td>0.1672</td></tr><tr><td>train_precision</td><td>1</td></tr><tr><td>train_recall</td><td>1</td></tr></table><br/></div></div>"
      ]
     },
     "metadata": {},
     "output_type": "display_data"
    },
    {
     "data": {
      "text/plain": [
       "<IPython.core.display.HTML object>"
      ],
      "text/html": [
       " View run <strong style=\"color:#cdcd00\">Experiment-4</strong> at: <a href='https://wandb.ai/research-devellopment/sentiment-analysis/runs/1a4427x3' target=\"_blank\">https://wandb.ai/research-devellopment/sentiment-analysis/runs/1a4427x3</a><br> View project at: <a href='https://wandb.ai/research-devellopment/sentiment-analysis' target=\"_blank\">https://wandb.ai/research-devellopment/sentiment-analysis</a><br>Synced 5 W&B file(s), 0 media file(s), 0 artifact file(s) and 0 other file(s)"
      ]
     },
     "metadata": {},
     "output_type": "display_data"
    },
    {
     "data": {
      "text/plain": [
       "<IPython.core.display.HTML object>"
      ],
      "text/html": [
       "Find logs at: <code>./wandb/run-20250313_150057-1a4427x3/logs</code>"
      ]
     },
     "metadata": {},
     "output_type": "display_data"
    },
    {
     "data": {
      "text/plain": [
       "                    model       vectorizer  train_loss  train_accuracy  \\\n",
       "0           MultinomialNB  TfidfVectorizer      0.3937          0.9418   \n",
       "1           MultinomialNB  TfidfVectorizer      0.3512          0.9622   \n",
       "2           MultinomialNB  TfidfVectorizer      0.3757          0.9456   \n",
       "3  RandomForestClassifier  TfidfVectorizer      0.1672          1.0000   \n",
       "\n",
       "   train_f1  train_recall  train_precision  test_loss  test_accuracy  test_f1  \\\n",
       "0    0.9414        0.9404           0.9483     0.5518         0.7311   0.7126   \n",
       "1    0.9621        0.9615           0.9643     0.5275         0.7583   0.7486   \n",
       "2    0.9454        0.9449           0.9472     0.5057         0.8278   0.8247   \n",
       "3    1.0000        1.0000           1.0000     0.5392         0.8066   0.8045   \n",
       "\n",
       "   test_recall  test_precision  min_df  max_df  random_state  \n",
       "0       0.7248          0.7920     NaN     NaN           NaN  \n",
       "1       0.7535          0.7924     NaN     NaN           NaN  \n",
       "2       0.8248          0.8442     6.0     0.7           NaN  \n",
       "3       0.8044          0.8148     6.0     0.7          42.0  "
      ],
      "text/html": [
       "<div>\n",
       "<style scoped>\n",
       "    .dataframe tbody tr th:only-of-type {\n",
       "        vertical-align: middle;\n",
       "    }\n",
       "\n",
       "    .dataframe tbody tr th {\n",
       "        vertical-align: top;\n",
       "    }\n",
       "\n",
       "    .dataframe thead th {\n",
       "        text-align: right;\n",
       "    }\n",
       "</style>\n",
       "<table border=\"1\" class=\"dataframe\">\n",
       "  <thead>\n",
       "    <tr style=\"text-align: right;\">\n",
       "      <th></th>\n",
       "      <th>model</th>\n",
       "      <th>vectorizer</th>\n",
       "      <th>train_loss</th>\n",
       "      <th>train_accuracy</th>\n",
       "      <th>train_f1</th>\n",
       "      <th>train_recall</th>\n",
       "      <th>train_precision</th>\n",
       "      <th>test_loss</th>\n",
       "      <th>test_accuracy</th>\n",
       "      <th>test_f1</th>\n",
       "      <th>test_recall</th>\n",
       "      <th>test_precision</th>\n",
       "      <th>min_df</th>\n",
       "      <th>max_df</th>\n",
       "      <th>random_state</th>\n",
       "    </tr>\n",
       "  </thead>\n",
       "  <tbody>\n",
       "    <tr>\n",
       "      <th>0</th>\n",
       "      <td>MultinomialNB</td>\n",
       "      <td>TfidfVectorizer</td>\n",
       "      <td>0.3937</td>\n",
       "      <td>0.9418</td>\n",
       "      <td>0.9414</td>\n",
       "      <td>0.9404</td>\n",
       "      <td>0.9483</td>\n",
       "      <td>0.5518</td>\n",
       "      <td>0.7311</td>\n",
       "      <td>0.7126</td>\n",
       "      <td>0.7248</td>\n",
       "      <td>0.7920</td>\n",
       "      <td>NaN</td>\n",
       "      <td>NaN</td>\n",
       "      <td>NaN</td>\n",
       "    </tr>\n",
       "    <tr>\n",
       "      <th>1</th>\n",
       "      <td>MultinomialNB</td>\n",
       "      <td>TfidfVectorizer</td>\n",
       "      <td>0.3512</td>\n",
       "      <td>0.9622</td>\n",
       "      <td>0.9621</td>\n",
       "      <td>0.9615</td>\n",
       "      <td>0.9643</td>\n",
       "      <td>0.5275</td>\n",
       "      <td>0.7583</td>\n",
       "      <td>0.7486</td>\n",
       "      <td>0.7535</td>\n",
       "      <td>0.7924</td>\n",
       "      <td>NaN</td>\n",
       "      <td>NaN</td>\n",
       "      <td>NaN</td>\n",
       "    </tr>\n",
       "    <tr>\n",
       "      <th>2</th>\n",
       "      <td>MultinomialNB</td>\n",
       "      <td>TfidfVectorizer</td>\n",
       "      <td>0.3757</td>\n",
       "      <td>0.9456</td>\n",
       "      <td>0.9454</td>\n",
       "      <td>0.9449</td>\n",
       "      <td>0.9472</td>\n",
       "      <td>0.5057</td>\n",
       "      <td>0.8278</td>\n",
       "      <td>0.8247</td>\n",
       "      <td>0.8248</td>\n",
       "      <td>0.8442</td>\n",
       "      <td>6.0</td>\n",
       "      <td>0.7</td>\n",
       "      <td>NaN</td>\n",
       "    </tr>\n",
       "    <tr>\n",
       "      <th>3</th>\n",
       "      <td>RandomForestClassifier</td>\n",
       "      <td>TfidfVectorizer</td>\n",
       "      <td>0.1672</td>\n",
       "      <td>1.0000</td>\n",
       "      <td>1.0000</td>\n",
       "      <td>1.0000</td>\n",
       "      <td>1.0000</td>\n",
       "      <td>0.5392</td>\n",
       "      <td>0.8066</td>\n",
       "      <td>0.8045</td>\n",
       "      <td>0.8044</td>\n",
       "      <td>0.8148</td>\n",
       "      <td>6.0</td>\n",
       "      <td>0.7</td>\n",
       "      <td>42.0</td>\n",
       "    </tr>\n",
       "  </tbody>\n",
       "</table>\n",
       "</div>"
      ]
     },
     "execution_count": 22,
     "metadata": {},
     "output_type": "execute_result"
    }
   ],
   "execution_count": 22
  },
  {
   "metadata": {},
   "cell_type": "markdown",
   "source": [
    "### Updating the Model Configuration (vectorizer)\n",
    "Update the vectorizer `max_features` hyperparameters.\n",
    "\n",
    "After updating these configurations, the Model instance is reinitialized with the new settings, ensuring that the model uses the updated parameters for vectorization."
   ],
   "id": "9397f42487dd856d"
  },
  {
   "metadata": {
    "ExecuteTime": {
     "end_time": "2025-03-13T13:01:03.640028Z",
     "start_time": "2025-03-13T13:01:01.504300Z"
    }
   },
   "cell_type": "code",
   "source": [
    "model_config.vectorizer_params.update({\"max_features\": 3000})\n",
    "\n",
    "model = Model(model_config)\n",
    "\n",
    "train_features = model.vectorize(train_inputs, fit=True)\n",
    "test_features = model.vectorize(test_inputs, fit=False)\n",
    "\n",
    "model.fit(train_features, train_target)"
   ],
   "id": "17ae41d0c1b47ce9",
   "outputs": [
    {
     "data": {
      "text/plain": [
       "<IPython.core.display.HTML object>"
      ],
      "text/html": [
       "Tracking run with wandb version 0.19.8"
      ]
     },
     "metadata": {},
     "output_type": "display_data"
    },
    {
     "data": {
      "text/plain": [
       "<IPython.core.display.HTML object>"
      ],
      "text/html": [
       "Run data is saved locally in <code>/home/ismael/Projects/sentiment-analysis/wandb/run-20250313_150101-nze3titj</code>"
      ]
     },
     "metadata": {},
     "output_type": "display_data"
    },
    {
     "data": {
      "text/plain": [
       "<IPython.core.display.HTML object>"
      ],
      "text/html": [
       "Syncing run <strong><a href='https://wandb.ai/research-devellopment/sentiment-analysis/runs/nze3titj' target=\"_blank\">Experiment-5</a></strong> to <a href='https://wandb.ai/research-devellopment/sentiment-analysis' target=\"_blank\">Weights & Biases</a> (<a href='https://wandb.me/developer-guide' target=\"_blank\">docs</a>)<br>"
      ]
     },
     "metadata": {},
     "output_type": "display_data"
    },
    {
     "data": {
      "text/plain": [
       "<IPython.core.display.HTML object>"
      ],
      "text/html": [
       " View project at <a href='https://wandb.ai/research-devellopment/sentiment-analysis' target=\"_blank\">https://wandb.ai/research-devellopment/sentiment-analysis</a>"
      ]
     },
     "metadata": {},
     "output_type": "display_data"
    },
    {
     "data": {
      "text/plain": [
       "<IPython.core.display.HTML object>"
      ],
      "text/html": [
       " View run at <a href='https://wandb.ai/research-devellopment/sentiment-analysis/runs/nze3titj' target=\"_blank\">https://wandb.ai/research-devellopment/sentiment-analysis/runs/nze3titj</a>"
      ]
     },
     "metadata": {},
     "output_type": "display_data"
    }
   ],
   "execution_count": 23
  },
  {
   "metadata": {},
   "cell_type": "markdown",
   "source": "#### Notice there is a decline in the performance `(TN: 155, TP: 109)`, after updating the vectorizer hyperparameters.",
   "id": "68d16b86ea3146f0"
  },
  {
   "metadata": {
    "ExecuteTime": {
     "end_time": "2025-03-13T13:01:03.804989Z",
     "start_time": "2025-03-13T13:01:03.678262Z"
    }
   },
   "cell_type": "code",
   "source": "model.display_confusion_matrix(test_features, test_target)",
   "id": "8a05bf1c623bf578",
   "outputs": [
    {
     "data": {
      "text/plain": [
       "<Figure size 640x480 with 2 Axes>"
      ],
      "image/png": "[encoded data removed]"
     },
     "metadata": {},
     "output_type": "display_data"
    }
   ],
   "execution_count": 24
  },
  {
   "metadata": {
    "ExecuteTime": {
     "end_time": "2025-03-13T13:01:05.465290Z",
     "start_time": "2025-03-13T13:01:03.822899Z"
    }
   },
   "cell_type": "code",
   "source": [
    "train_results = model.evaluate(train_features, train_target)\n",
    "test_results = model.evaluate(test_features, test_target)\n",
    "\n",
    "model.log(train_results=train_results, test_results=test_results)"
   ],
   "id": "ad31093f6f8ad842",
   "outputs": [
    {
     "data": {
      "text/plain": [
       "<IPython.core.display.HTML object>"
      ],
      "text/html": []
     },
     "metadata": {},
     "output_type": "display_data"
    },
    {
     "data": {
      "text/plain": [
       "<IPython.core.display.HTML object>"
      ],
      "text/html": [
       "<br>    <style><br>        .wandb-row {<br>            display: flex;<br>            flex-direction: row;<br>            flex-wrap: wrap;<br>            justify-content: flex-start;<br>            width: 100%;<br>        }<br>        .wandb-col {<br>            display: flex;<br>            flex-direction: column;<br>            flex-basis: 100%;<br>            flex: 1;<br>            padding: 10px;<br>        }<br>    </style><br><div class=\"wandb-row\"><div class=\"wandb-col\"><h3>Run history:</h3><br/><table class=\"wandb\"><tr><td>test_accuracy</td><td>▁</td></tr><tr><td>test_f1</td><td>▁</td></tr><tr><td>test_loss</td><td>▁</td></tr><tr><td>test_precision</td><td>▁</td></tr><tr><td>test_recall</td><td>▁</td></tr><tr><td>train_accuracy</td><td>▁</td></tr><tr><td>train_f1</td><td>▁</td></tr><tr><td>train_loss</td><td>▁</td></tr><tr><td>train_precision</td><td>▁</td></tr><tr><td>train_recall</td><td>▁</td></tr></table><br/></div><div class=\"wandb-col\"><h3>Run summary:</h3><br/><table class=\"wandb\"><tr><td>test_accuracy</td><td>0.7976</td></tr><tr><td>test_f1</td><td>0.7936</td></tr><tr><td>test_loss</td><td>0.5354</td></tr><tr><td>test_precision</td><td>0.8139</td></tr><tr><td>test_recall</td><td>0.7944</td></tr><tr><td>train_accuracy</td><td>1</td></tr><tr><td>train_f1</td><td>1</td></tr><tr><td>train_loss</td><td>0.1659</td></tr><tr><td>train_precision</td><td>1</td></tr><tr><td>train_recall</td><td>1</td></tr></table><br/></div></div>"
      ]
     },
     "metadata": {},
     "output_type": "display_data"
    },
    {
     "data": {
      "text/plain": [
       "<IPython.core.display.HTML object>"
      ],
      "text/html": [
       " View run <strong style=\"color:#cdcd00\">Experiment-5</strong> at: <a href='https://wandb.ai/research-devellopment/sentiment-analysis/runs/nze3titj' target=\"_blank\">https://wandb.ai/research-devellopment/sentiment-analysis/runs/nze3titj</a><br> View project at: <a href='https://wandb.ai/research-devellopment/sentiment-analysis' target=\"_blank\">https://wandb.ai/research-devellopment/sentiment-analysis</a><br>Synced 5 W&B file(s), 0 media file(s), 0 artifact file(s) and 0 other file(s)"
      ]
     },
     "metadata": {},
     "output_type": "display_data"
    },
    {
     "data": {
      "text/plain": [
       "<IPython.core.display.HTML object>"
      ],
      "text/html": [
       "Find logs at: <code>./wandb/run-20250313_150101-nze3titj/logs</code>"
      ]
     },
     "metadata": {},
     "output_type": "display_data"
    },
    {
     "data": {
      "text/plain": [
       "                    model       vectorizer  train_loss  train_accuracy  \\\n",
       "0           MultinomialNB  TfidfVectorizer      0.3937          0.9418   \n",
       "1           MultinomialNB  TfidfVectorizer      0.3512          0.9622   \n",
       "2           MultinomialNB  TfidfVectorizer      0.3757          0.9456   \n",
       "3  RandomForestClassifier  TfidfVectorizer      0.1672          1.0000   \n",
       "4  RandomForestClassifier  TfidfVectorizer      0.1659          1.0000   \n",
       "\n",
       "   train_f1  train_recall  train_precision  test_loss  test_accuracy  test_f1  \\\n",
       "0    0.9414        0.9404           0.9483     0.5518         0.7311   0.7126   \n",
       "1    0.9621        0.9615           0.9643     0.5275         0.7583   0.7486   \n",
       "2    0.9454        0.9449           0.9472     0.5057         0.8278   0.8247   \n",
       "3    1.0000        1.0000           1.0000     0.5392         0.8066   0.8045   \n",
       "4    1.0000        1.0000           1.0000     0.5354         0.7976   0.7936   \n",
       "\n",
       "   test_recall  test_precision  min_df  max_df  random_state  max_features  \n",
       "0       0.7248          0.7920     NaN     NaN           NaN           NaN  \n",
       "1       0.7535          0.7924     NaN     NaN           NaN           NaN  \n",
       "2       0.8248          0.8442     6.0     0.7           NaN           NaN  \n",
       "3       0.8044          0.8148     6.0     0.7          42.0           NaN  \n",
       "4       0.7944          0.8139     6.0     0.7          42.0        3000.0  "
      ],
      "text/html": [
       "<div>\n",
       "<style scoped>\n",
       "    .dataframe tbody tr th:only-of-type {\n",
       "        vertical-align: middle;\n",
       "    }\n",
       "\n",
       "    .dataframe tbody tr th {\n",
       "        vertical-align: top;\n",
       "    }\n",
       "\n",
       "    .dataframe thead th {\n",
       "        text-align: right;\n",
       "    }\n",
       "</style>\n",
       "<table border=\"1\" class=\"dataframe\">\n",
       "  <thead>\n",
       "    <tr style=\"text-align: right;\">\n",
       "      <th></th>\n",
       "      <th>model</th>\n",
       "      <th>vectorizer</th>\n",
       "      <th>train_loss</th>\n",
       "      <th>train_accuracy</th>\n",
       "      <th>train_f1</th>\n",
       "      <th>train_recall</th>\n",
       "      <th>train_precision</th>\n",
       "      <th>test_loss</th>\n",
       "      <th>test_accuracy</th>\n",
       "      <th>test_f1</th>\n",
       "      <th>test_recall</th>\n",
       "      <th>test_precision</th>\n",
       "      <th>min_df</th>\n",
       "      <th>max_df</th>\n",
       "      <th>random_state</th>\n",
       "      <th>max_features</th>\n",
       "    </tr>\n",
       "  </thead>\n",
       "  <tbody>\n",
       "    <tr>\n",
       "      <th>0</th>\n",
       "      <td>MultinomialNB</td>\n",
       "      <td>TfidfVectorizer</td>\n",
       "      <td>0.3937</td>\n",
       "      <td>0.9418</td>\n",
       "      <td>0.9414</td>\n",
       "      <td>0.9404</td>\n",
       "      <td>0.9483</td>\n",
       "      <td>0.5518</td>\n",
       "      <td>0.7311</td>\n",
       "      <td>0.7126</td>\n",
       "      <td>0.7248</td>\n",
       "      <td>0.7920</td>\n",
       "      <td>NaN</td>\n",
       "      <td>NaN</td>\n",
       "      <td>NaN</td>\n",
       "      <td>NaN</td>\n",
       "    </tr>\n",
       "    <tr>\n",
       "      <th>1</th>\n",
       "      <td>MultinomialNB</td>\n",
       "      <td>TfidfVectorizer</td>\n",
       "      <td>0.3512</td>\n",
       "      <td>0.9622</td>\n",
       "      <td>0.9621</td>\n",
       "      <td>0.9615</td>\n",
       "      <td>0.9643</td>\n",
       "      <td>0.5275</td>\n",
       "      <td>0.7583</td>\n",
       "      <td>0.7486</td>\n",
       "      <td>0.7535</td>\n",
       "      <td>0.7924</td>\n",
       "      <td>NaN</td>\n",
       "      <td>NaN</td>\n",
       "      <td>NaN</td>\n",
       "      <td>NaN</td>\n",
       "    </tr>\n",
       "    <tr>\n",
       "      <th>2</th>\n",
       "      <td>MultinomialNB</td>\n",
       "      <td>TfidfVectorizer</td>\n",
       "      <td>0.3757</td>\n",
       "      <td>0.9456</td>\n",
       "      <td>0.9454</td>\n",
       "      <td>0.9449</td>\n",
       "      <td>0.9472</td>\n",
       "      <td>0.5057</td>\n",
       "      <td>0.8278</td>\n",
       "      <td>0.8247</td>\n",
       "      <td>0.8248</td>\n",
       "      <td>0.8442</td>\n",
       "      <td>6.0</td>\n",
       "      <td>0.7</td>\n",
       "      <td>NaN</td>\n",
       "      <td>NaN</td>\n",
       "    </tr>\n",
       "    <tr>\n",
       "      <th>3</th>\n",
       "      <td>RandomForestClassifier</td>\n",
       "      <td>TfidfVectorizer</td>\n",
       "      <td>0.1672</td>\n",
       "      <td>1.0000</td>\n",
       "      <td>1.0000</td>\n",
       "      <td>1.0000</td>\n",
       "      <td>1.0000</td>\n",
       "      <td>0.5392</td>\n",
       "      <td>0.8066</td>\n",
       "      <td>0.8045</td>\n",
       "      <td>0.8044</td>\n",
       "      <td>0.8148</td>\n",
       "      <td>6.0</td>\n",
       "      <td>0.7</td>\n",
       "      <td>42.0</td>\n",
       "      <td>NaN</td>\n",
       "    </tr>\n",
       "    <tr>\n",
       "      <th>4</th>\n",
       "      <td>RandomForestClassifier</td>\n",
       "      <td>TfidfVectorizer</td>\n",
       "      <td>0.1659</td>\n",
       "      <td>1.0000</td>\n",
       "      <td>1.0000</td>\n",
       "      <td>1.0000</td>\n",
       "      <td>1.0000</td>\n",
       "      <td>0.5354</td>\n",
       "      <td>0.7976</td>\n",
       "      <td>0.7936</td>\n",
       "      <td>0.7944</td>\n",
       "      <td>0.8139</td>\n",
       "      <td>6.0</td>\n",
       "      <td>0.7</td>\n",
       "      <td>42.0</td>\n",
       "      <td>3000.0</td>\n",
       "    </tr>\n",
       "  </tbody>\n",
       "</table>\n",
       "</div>"
      ]
     },
     "execution_count": 25,
     "metadata": {},
     "output_type": "execute_result"
    }
   ],
   "execution_count": 25
  },
  {
   "metadata": {},
   "cell_type": "markdown",
   "source": [
    "### Updating the Model Configuration (model and vectorizer)\n",
    "Update the vectorizer `ngram_range` hyperparameters.\n",
    "\n",
    "Update the model `n_estimators`, `max_depth`, `min_samples_leaf`, and `min_samples_split` hyperparameters.\n",
    "\n",
    "After updating these configurations, the Model instance is reinitialized with the new settings, ensuring that the model uses the updated parameters for vectorization and model."
   ],
   "id": "19c50dc8a17b656a"
  },
  {
   "metadata": {
    "ExecuteTime": {
     "end_time": "2025-03-13T13:01:07.721101Z",
     "start_time": "2025-03-13T13:01:05.525582Z"
    }
   },
   "cell_type": "code",
   "source": [
    "model_config.vectorizer_params.update({\"ngram_range\": (1, 2)})\n",
    "model_config.model_params.update({\"n_estimators\": 50, \"max_depth\": 5, \"min_samples_leaf\": 5, \"min_samples_split\": 3})\n",
    "\n",
    "model = Model(model_config)\n",
    "\n",
    "train_features = model.vectorize(train_inputs, fit=True)\n",
    "test_features = model.vectorize(test_inputs, fit=False)\n",
    "\n",
    "model.fit(train_features, train_target)"
   ],
   "id": "751b49003a3c2a7b",
   "outputs": [
    {
     "data": {
      "text/plain": [
       "<IPython.core.display.HTML object>"
      ],
      "text/html": [
       "Tracking run with wandb version 0.19.8"
      ]
     },
     "metadata": {},
     "output_type": "display_data"
    },
    {
     "data": {
      "text/plain": [
       "<IPython.core.display.HTML object>"
      ],
      "text/html": [
       "Run data is saved locally in <code>/home/ismael/Projects/sentiment-analysis/wandb/run-20250313_150106-5fmph3qb</code>"
      ]
     },
     "metadata": {},
     "output_type": "display_data"
    },
    {
     "data": {
      "text/plain": [
       "<IPython.core.display.HTML object>"
      ],
      "text/html": [
       "Syncing run <strong><a href='https://wandb.ai/research-devellopment/sentiment-analysis/runs/5fmph3qb' target=\"_blank\">Experiment-6</a></strong> to <a href='https://wandb.ai/research-devellopment/sentiment-analysis' target=\"_blank\">Weights & Biases</a> (<a href='https://wandb.me/developer-guide' target=\"_blank\">docs</a>)<br>"
      ]
     },
     "metadata": {},
     "output_type": "display_data"
    },
    {
     "data": {
      "text/plain": [
       "<IPython.core.display.HTML object>"
      ],
      "text/html": [
       " View project at <a href='https://wandb.ai/research-devellopment/sentiment-analysis' target=\"_blank\">https://wandb.ai/research-devellopment/sentiment-analysis</a>"
      ]
     },
     "metadata": {},
     "output_type": "display_data"
    },
    {
     "data": {
      "text/plain": [
       "<IPython.core.display.HTML object>"
      ],
      "text/html": [
       " View run at <a href='https://wandb.ai/research-devellopment/sentiment-analysis/runs/5fmph3qb' target=\"_blank\">https://wandb.ai/research-devellopment/sentiment-analysis/runs/5fmph3qb</a>"
      ]
     },
     "metadata": {},
     "output_type": "display_data"
    }
   ],
   "execution_count": 26
  },
  {
   "metadata": {},
   "cell_type": "markdown",
   "source": "#### Notice there is a decline in the performance `(TN: 148, TP: 109)`, after updating the vectorizer and model hyperparameters.",
   "id": "adff94482e37750c"
  },
  {
   "metadata": {
    "ExecuteTime": {
     "end_time": "2025-03-13T13:01:07.901483Z",
     "start_time": "2025-03-13T13:01:07.758752Z"
    }
   },
   "cell_type": "code",
   "source": "model.display_confusion_matrix(test_features, test_target)",
   "id": "27706649c9d6c41e",
   "outputs": [
    {
     "data": {
      "text/plain": [
       "<Figure size 640x480 with 2 Axes>"
      ],
      "image/png": "[encoded data removed]"
     },
     "metadata": {},
     "output_type": "display_data"
    }
   ],
   "execution_count": 27
  },
  {
   "metadata": {
    "ExecuteTime": {
     "end_time": "2025-03-13T13:01:09.232115Z",
     "start_time": "2025-03-13T13:01:07.918140Z"
    }
   },
   "cell_type": "code",
   "source": [
    "train_results = model.evaluate(train_features, train_target)\n",
    "test_results = model.evaluate(test_features, test_target)\n",
    "\n",
    "model.log(train_results=train_results, test_results=test_results)"
   ],
   "id": "676e6310e039ac0b",
   "outputs": [
    {
     "data": {
      "text/plain": [
       "<IPython.core.display.HTML object>"
      ],
      "text/html": []
     },
     "metadata": {},
     "output_type": "display_data"
    },
    {
     "data": {
      "text/plain": [
       "<IPython.core.display.HTML object>"
      ],
      "text/html": [
       "<br>    <style><br>        .wandb-row {<br>            display: flex;<br>            flex-direction: row;<br>            flex-wrap: wrap;<br>            justify-content: flex-start;<br>            width: 100%;<br>        }<br>        .wandb-col {<br>            display: flex;<br>            flex-direction: column;<br>            flex-basis: 100%;<br>            flex: 1;<br>            padding: 10px;<br>        }<br>    </style><br><div class=\"wandb-row\"><div class=\"wandb-col\"><h3>Run history:</h3><br/><table class=\"wandb\"><tr><td>test_accuracy</td><td>▁</td></tr><tr><td>test_f1</td><td>▁</td></tr><tr><td>test_loss</td><td>▁</td></tr><tr><td>test_precision</td><td>▁</td></tr><tr><td>test_recall</td><td>▁</td></tr><tr><td>train_accuracy</td><td>▁</td></tr><tr><td>train_f1</td><td>▁</td></tr><tr><td>train_loss</td><td>▁</td></tr><tr><td>train_precision</td><td>▁</td></tr><tr><td>train_recall</td><td>▁</td></tr></table><br/></div><div class=\"wandb-col\"><h3>Run summary:</h3><br/><table class=\"wandb\"><tr><td>test_accuracy</td><td>0.7764</td></tr><tr><td>test_f1</td><td>0.7733</td></tr><tr><td>test_loss</td><td>0.6204</td></tr><tr><td>test_precision</td><td>0.786</td></tr><tr><td>test_recall</td><td>0.7738</td></tr><tr><td>train_accuracy</td><td>0.8851</td></tr><tr><td>train_f1</td><td>0.885</td></tr><tr><td>train_loss</td><td>0.5767</td></tr><tr><td>train_precision</td><td>0.8851</td></tr><tr><td>train_recall</td><td>0.885</td></tr></table><br/></div></div>"
      ]
     },
     "metadata": {},
     "output_type": "display_data"
    },
    {
     "data": {
      "text/plain": [
       "<IPython.core.display.HTML object>"
      ],
      "text/html": [
       " View run <strong style=\"color:#cdcd00\">Experiment-6</strong> at: <a href='https://wandb.ai/research-devellopment/sentiment-analysis/runs/5fmph3qb' target=\"_blank\">https://wandb.ai/research-devellopment/sentiment-analysis/runs/5fmph3qb</a><br> View project at: <a href='https://wandb.ai/research-devellopment/sentiment-analysis' target=\"_blank\">https://wandb.ai/research-devellopment/sentiment-analysis</a><br>Synced 5 W&B file(s), 0 media file(s), 0 artifact file(s) and 0 other file(s)"
      ]
     },
     "metadata": {},
     "output_type": "display_data"
    },
    {
     "data": {
      "text/plain": [
       "<IPython.core.display.HTML object>"
      ],
      "text/html": [
       "Find logs at: <code>./wandb/run-20250313_150106-5fmph3qb/logs</code>"
      ]
     },
     "metadata": {},
     "output_type": "display_data"
    },
    {
     "data": {
      "text/plain": [
       "                    model       vectorizer  train_loss  train_accuracy  \\\n",
       "0           MultinomialNB  TfidfVectorizer      0.3937          0.9418   \n",
       "1           MultinomialNB  TfidfVectorizer      0.3512          0.9622   \n",
       "2           MultinomialNB  TfidfVectorizer      0.3757          0.9456   \n",
       "3  RandomForestClassifier  TfidfVectorizer      0.1672          1.0000   \n",
       "4  RandomForestClassifier  TfidfVectorizer      0.1659          1.0000   \n",
       "5  RandomForestClassifier  TfidfVectorizer      0.5767          0.8851   \n",
       "\n",
       "   train_f1  train_recall  train_precision  test_loss  test_accuracy  test_f1  \\\n",
       "0    0.9414        0.9404           0.9483     0.5518         0.7311   0.7126   \n",
       "1    0.9621        0.9615           0.9643     0.5275         0.7583   0.7486   \n",
       "2    0.9454        0.9449           0.9472     0.5057         0.8278   0.8247   \n",
       "3    1.0000        1.0000           1.0000     0.5392         0.8066   0.8045   \n",
       "4    1.0000        1.0000           1.0000     0.5354         0.7976   0.7936   \n",
       "5    0.8850        0.8850           0.8851     0.6204         0.7764   0.7733   \n",
       "\n",
       "   ...  test_precision  min_df  max_df  random_state  max_features  \\\n",
       "0  ...          0.7920     NaN     NaN           NaN           NaN   \n",
       "1  ...          0.7924     NaN     NaN           NaN           NaN   \n",
       "2  ...          0.8442     6.0     0.7           NaN           NaN   \n",
       "3  ...          0.8148     6.0     0.7          42.0           NaN   \n",
       "4  ...          0.8139     6.0     0.7          42.0        3000.0   \n",
       "5  ...          0.7860     6.0     0.7          42.0        3000.0   \n",
       "\n",
       "   n_estimators  max_depth  min_samples_leaf  min_samples_split  ngram_range  \n",
       "0           NaN        NaN               NaN                NaN          NaN  \n",
       "1           NaN        NaN               NaN                NaN          NaN  \n",
       "2           NaN        NaN               NaN                NaN          NaN  \n",
       "3           NaN        NaN               NaN                NaN          NaN  \n",
       "4           NaN        NaN               NaN                NaN          NaN  \n",
       "5          50.0        5.0               5.0                3.0       (1, 2)  \n",
       "\n",
       "[6 rows x 21 columns]"
      ],
      "text/html": [
       "<div>\n",
       "<style scoped>\n",
       "    .dataframe tbody tr th:only-of-type {\n",
       "        vertical-align: middle;\n",
       "    }\n",
       "\n",
       "    .dataframe tbody tr th {\n",
       "        vertical-align: top;\n",
       "    }\n",
       "\n",
       "    .dataframe thead th {\n",
       "        text-align: right;\n",
       "    }\n",
       "</style>\n",
       "<table border=\"1\" class=\"dataframe\">\n",
       "  <thead>\n",
       "    <tr style=\"text-align: right;\">\n",
       "      <th></th>\n",
       "      <th>model</th>\n",
       "      <th>vectorizer</th>\n",
       "      <th>train_loss</th>\n",
       "      <th>train_accuracy</th>\n",
       "      <th>train_f1</th>\n",
       "      <th>train_recall</th>\n",
       "      <th>train_precision</th>\n",
       "      <th>test_loss</th>\n",
       "      <th>test_accuracy</th>\n",
       "      <th>test_f1</th>\n",
       "      <th>...</th>\n",
       "      <th>test_precision</th>\n",
       "      <th>min_df</th>\n",
       "      <th>max_df</th>\n",
       "      <th>random_state</th>\n",
       "      <th>max_features</th>\n",
       "      <th>n_estimators</th>\n",
       "      <th>max_depth</th>\n",
       "      <th>min_samples_leaf</th>\n",
       "      <th>min_samples_split</th>\n",
       "      <th>ngram_range</th>\n",
       "    </tr>\n",
       "  </thead>\n",
       "  <tbody>\n",
       "    <tr>\n",
       "      <th>0</th>\n",
       "      <td>MultinomialNB</td>\n",
       "      <td>TfidfVectorizer</td>\n",
       "      <td>0.3937</td>\n",
       "      <td>0.9418</td>\n",
       "      <td>0.9414</td>\n",
       "      <td>0.9404</td>\n",
       "      <td>0.9483</td>\n",
       "      <td>0.5518</td>\n",
       "      <td>0.7311</td>\n",
       "      <td>0.7126</td>\n",
       "      <td>...</td>\n",
       "      <td>0.7920</td>\n",
       "      <td>NaN</td>\n",
       "      <td>NaN</td>\n",
       "      <td>NaN</td>\n",
       "      <td>NaN</td>\n",
       "      <td>NaN</td>\n",
       "      <td>NaN</td>\n",
       "      <td>NaN</td>\n",
       "      <td>NaN</td>\n",
       "      <td>NaN</td>\n",
       "    </tr>\n",
       "    <tr>\n",
       "      <th>1</th>\n",
       "      <td>MultinomialNB</td>\n",
       "      <td>TfidfVectorizer</td>\n",
       "      <td>0.3512</td>\n",
       "      <td>0.9622</td>\n",
       "      <td>0.9621</td>\n",
       "      <td>0.9615</td>\n",
       "      <td>0.9643</td>\n",
       "      <td>0.5275</td>\n",
       "      <td>0.7583</td>\n",
       "      <td>0.7486</td>\n",
       "      <td>...</td>\n",
       "      <td>0.7924</td>\n",
       "      <td>NaN</td>\n",
       "      <td>NaN</td>\n",
       "      <td>NaN</td>\n",
       "      <td>NaN</td>\n",
       "      <td>NaN</td>\n",
       "      <td>NaN</td>\n",
       "      <td>NaN</td>\n",
       "      <td>NaN</td>\n",
       "      <td>NaN</td>\n",
       "    </tr>\n",
       "    <tr>\n",
       "      <th>2</th>\n",
       "      <td>MultinomialNB</td>\n",
       "      <td>TfidfVectorizer</td>\n",
       "      <td>0.3757</td>\n",
       "      <td>0.9456</td>\n",
       "      <td>0.9454</td>\n",
       "      <td>0.9449</td>\n",
       "      <td>0.9472</td>\n",
       "      <td>0.5057</td>\n",
       "      <td>0.8278</td>\n",
       "      <td>0.8247</td>\n",
       "      <td>...</td>\n",
       "      <td>0.8442</td>\n",
       "      <td>6.0</td>\n",
       "      <td>0.7</td>\n",
       "      <td>NaN</td>\n",
       "      <td>NaN</td>\n",
       "      <td>NaN</td>\n",
       "      <td>NaN</td>\n",
       "      <td>NaN</td>\n",
       "      <td>NaN</td>\n",
       "      <td>NaN</td>\n",
       "    </tr>\n",
       "    <tr>\n",
       "      <th>3</th>\n",
       "      <td>RandomForestClassifier</td>\n",
       "      <td>TfidfVectorizer</td>\n",
       "      <td>0.1672</td>\n",
       "      <td>1.0000</td>\n",
       "      <td>1.0000</td>\n",
       "      <td>1.0000</td>\n",
       "      <td>1.0000</td>\n",
       "      <td>0.5392</td>\n",
       "      <td>0.8066</td>\n",
       "      <td>0.8045</td>\n",
       "      <td>...</td>\n",
       "      <td>0.8148</td>\n",
       "      <td>6.0</td>\n",
       "      <td>0.7</td>\n",
       "      <td>42.0</td>\n",
       "      <td>NaN</td>\n",
       "      <td>NaN</td>\n",
       "      <td>NaN</td>\n",
       "      <td>NaN</td>\n",
       "      <td>NaN</td>\n",
       "      <td>NaN</td>\n",
       "    </tr>\n",
       "    <tr>\n",
       "      <th>4</th>\n",
       "      <td>RandomForestClassifier</td>\n",
       "      <td>TfidfVectorizer</td>\n",
       "      <td>0.1659</td>\n",
       "      <td>1.0000</td>\n",
       "      <td>1.0000</td>\n",
       "      <td>1.0000</td>\n",
       "      <td>1.0000</td>\n",
       "      <td>0.5354</td>\n",
       "      <td>0.7976</td>\n",
       "      <td>0.7936</td>\n",
       "      <td>...</td>\n",
       "      <td>0.8139</td>\n",
       "      <td>6.0</td>\n",
       "      <td>0.7</td>\n",
       "      <td>42.0</td>\n",
       "      <td>3000.0</td>\n",
       "      <td>NaN</td>\n",
       "      <td>NaN</td>\n",
       "      <td>NaN</td>\n",
       "      <td>NaN</td>\n",
       "      <td>NaN</td>\n",
       "    </tr>\n",
       "    <tr>\n",
       "      <th>5</th>\n",
       "      <td>RandomForestClassifier</td>\n",
       "      <td>TfidfVectorizer</td>\n",
       "      <td>0.5767</td>\n",
       "      <td>0.8851</td>\n",
       "      <td>0.8850</td>\n",
       "      <td>0.8850</td>\n",
       "      <td>0.8851</td>\n",
       "      <td>0.6204</td>\n",
       "      <td>0.7764</td>\n",
       "      <td>0.7733</td>\n",
       "      <td>...</td>\n",
       "      <td>0.7860</td>\n",
       "      <td>6.0</td>\n",
       "      <td>0.7</td>\n",
       "      <td>42.0</td>\n",
       "      <td>3000.0</td>\n",
       "      <td>50.0</td>\n",
       "      <td>5.0</td>\n",
       "      <td>5.0</td>\n",
       "      <td>3.0</td>\n",
       "      <td>(1, 2)</td>\n",
       "    </tr>\n",
       "  </tbody>\n",
       "</table>\n",
       "<p>6 rows × 21 columns</p>\n",
       "</div>"
      ]
     },
     "execution_count": 28,
     "metadata": {},
     "output_type": "execute_result"
    }
   ],
   "execution_count": 28
  },
  {
   "metadata": {},
   "cell_type": "markdown",
   "source": "#### Let's take the advantage of the `commons` words between the documents.",
   "id": "a703df43cee4ae8e"
  },
  {
   "metadata": {
    "ExecuteTime": {
     "end_time": "2025-03-13T13:01:09.450569Z",
     "start_time": "2025-03-13T13:01:09.285505Z"
    }
   },
   "cell_type": "code",
   "source": [
    "top_negatives, top_positives, commons, only_negatives, only_positives =  dataset.count(n=20)\n",
    "\n",
    "print(top_negatives, top_positives, commons, only_negatives, only_positives, sep=\"\\n\")"
   ],
   "id": "2195ee696c4e6927",
   "outputs": [
    {
     "name": "stdout",
     "output_type": "stream",
     "text": [
      "['not', 'film', 'movie', 'like', 'character', 'make', 'time', 'no', 'scene', 'good', 'play', 'look', 'bad', 'go', 'plot', 'story', 'know', 'get', 'come', 'think']\n",
      "['film', 'not', 'movie', 'character', 'like', 'make', 'time', 'scene', 'story', 'good', 'life', 'play', 'no', 'way', 'come', 'year', 'end', 'know', 'go', 'work']\n",
      "['no', 'character', 'film', 'scene', 'not', 'good', 'make', 'come', 'story', 'play', 'movie', 'time', 'go', 'know', 'like']\n",
      "{'bad', 'get', 'plot', 'look', 'think'}\n",
      "{'end', 'way', 'year', 'life', 'work'}\n"
     ]
    }
   ],
   "execution_count": 29
  },
  {
   "metadata": {},
   "cell_type": "markdown",
   "source": [
    "### Updating the Model Configuration (vectorizer)\n",
    "Update the vectorizer `stop_words` hyperparameters, where pass the `commons` words as a stopwords to the vectorizer, so it will exclude them from the feature set.\n",
    "\n",
    "After updating these configurations, the Model instance is reinitialized with the new settings, ensuring that the model uses the updated parameters for vectorization."
   ],
   "id": "1eb169d87ebe81bc"
  },
  {
   "metadata": {
    "ExecuteTime": {
     "end_time": "2025-03-13T13:01:11.773510Z",
     "start_time": "2025-03-13T13:01:09.494519Z"
    }
   },
   "cell_type": "code",
   "source": [
    "model_config.vectorizer_params.update({\"stop_words\": commons})\n",
    "\n",
    "model = Model(model_config)\n",
    "\n",
    "train_features = model.vectorize(train_inputs, fit=True)\n",
    "test_features = model.vectorize(test_inputs, fit=False)\n",
    "\n",
    "model.fit(train_features, train_target)"
   ],
   "id": "e4a33a083b5101f0",
   "outputs": [
    {
     "data": {
      "text/plain": [
       "<IPython.core.display.HTML object>"
      ],
      "text/html": [
       "Tracking run with wandb version 0.19.8"
      ]
     },
     "metadata": {},
     "output_type": "display_data"
    },
    {
     "data": {
      "text/plain": [
       "<IPython.core.display.HTML object>"
      ],
      "text/html": [
       "Run data is saved locally in <code>/home/ismael/Projects/sentiment-analysis/wandb/run-20250313_150110-vcn1e2wx</code>"
      ]
     },
     "metadata": {},
     "output_type": "display_data"
    },
    {
     "data": {
      "text/plain": [
       "<IPython.core.display.HTML object>"
      ],
      "text/html": [
       "Syncing run <strong><a href='https://wandb.ai/research-devellopment/sentiment-analysis/runs/vcn1e2wx' target=\"_blank\">Experiment-7</a></strong> to <a href='https://wandb.ai/research-devellopment/sentiment-analysis' target=\"_blank\">Weights & Biases</a> (<a href='https://wandb.me/developer-guide' target=\"_blank\">docs</a>)<br>"
      ]
     },
     "metadata": {},
     "output_type": "display_data"
    },
    {
     "data": {
      "text/plain": [
       "<IPython.core.display.HTML object>"
      ],
      "text/html": [
       " View project at <a href='https://wandb.ai/research-devellopment/sentiment-analysis' target=\"_blank\">https://wandb.ai/research-devellopment/sentiment-analysis</a>"
      ]
     },
     "metadata": {},
     "output_type": "display_data"
    },
    {
     "data": {
      "text/plain": [
       "<IPython.core.display.HTML object>"
      ],
      "text/html": [
       " View run at <a href='https://wandb.ai/research-devellopment/sentiment-analysis/runs/vcn1e2wx' target=\"_blank\">https://wandb.ai/research-devellopment/sentiment-analysis/runs/vcn1e2wx</a>"
      ]
     },
     "metadata": {},
     "output_type": "display_data"
    }
   ],
   "execution_count": 30
  },
  {
   "metadata": {},
   "cell_type": "markdown",
   "source": "#### Notice there is an improvements in the performance `(TN: 151, TP: 111)`, after updating the vectorizer hyperparameters.",
   "id": "60ee9ee57017f074"
  },
  {
   "metadata": {
    "ExecuteTime": {
     "end_time": "2025-03-13T13:01:11.883553Z",
     "start_time": "2025-03-13T13:01:11.787895Z"
    }
   },
   "cell_type": "code",
   "source": "model.display_confusion_matrix(test_features, test_target)",
   "id": "f357d408ef161e3d",
   "outputs": [
    {
     "data": {
      "text/plain": [
       "<Figure size 640x480 with 2 Axes>"
      ],
      "image/png": "[encoded data removed]"
     },
     "metadata": {},
     "output_type": "display_data"
    }
   ],
   "execution_count": 31
  },
  {
   "metadata": {},
   "cell_type": "code",
   "outputs": [],
   "execution_count": null,
   "source": [
    "train_results = model.evaluate(train_features, train_target)\n",
    "test_results = model.evaluate(test_features, test_target)\n",
    "\n",
    "model.log(train_results=train_results, test_results=test_results)"
   ],
   "id": "99e6d449b431b9f1"
  },
  {
   "metadata": {},
   "cell_type": "markdown",
   "source": [
    "### Updating the Model Configuration (model)\n",
    "The model is set to LogisticRegression, and the model parameters are updated in the model configurations.\n",
    "\n",
    "After updating these configurations, the Model instance is reinitialized with the new settings, ensuring that the model uses the updated parameters for model."
   ],
   "id": "7ca3df98e2f79a88"
  },
  {
   "metadata": {
    "ExecuteTime": {
     "end_time": "2025-03-13T13:01:15.437510Z",
     "start_time": "2025-03-13T13:01:13.361330Z"
    }
   },
   "cell_type": "code",
   "source": [
    "model_config.model_params = {\"random_state\": 42, \"max_iter\": 1000}\n",
    "model_config.model = LogisticRegression()\n",
    "\n",
    "model = Model(model_config)\n",
    "\n",
    "train_features = model.vectorize(train_inputs, fit=True)\n",
    "test_features = model.vectorize(test_inputs, fit=False)\n",
    "\n",
    "model.fit(train_features, train_target)"
   ],
   "id": "171d78e988a0efd4",
   "outputs": [
    {
     "data": {
      "text/plain": [
       "<IPython.core.display.HTML object>"
      ],
      "text/html": [
       "Tracking run with wandb version 0.19.8"
      ]
     },
     "metadata": {},
     "output_type": "display_data"
    },
    {
     "data": {
      "text/plain": [
       "<IPython.core.display.HTML object>"
      ],
      "text/html": [
       "Run data is saved locally in <code>/home/ismael/Projects/sentiment-analysis/wandb/run-20250313_150114-on3yawg4</code>"
      ]
     },
     "metadata": {},
     "output_type": "display_data"
    },
    {
     "data": {
      "text/plain": [
       "<IPython.core.display.HTML object>"
      ],
      "text/html": [
       "Syncing run <strong><a href='https://wandb.ai/research-devellopment/sentiment-analysis/runs/on3yawg4' target=\"_blank\">Experiment-8</a></strong> to <a href='https://wandb.ai/research-devellopment/sentiment-analysis' target=\"_blank\">Weights & Biases</a> (<a href='https://wandb.me/developer-guide' target=\"_blank\">docs</a>)<br>"
      ]
     },
     "metadata": {},
     "output_type": "display_data"
    },
    {
     "data": {
      "text/plain": [
       "<IPython.core.display.HTML object>"
      ],
      "text/html": [
       " View project at <a href='https://wandb.ai/research-devellopment/sentiment-analysis' target=\"_blank\">https://wandb.ai/research-devellopment/sentiment-analysis</a>"
      ]
     },
     "metadata": {},
     "output_type": "display_data"
    },
    {
     "data": {
      "text/plain": [
       "<IPython.core.display.HTML object>"
      ],
      "text/html": [
       " View run at <a href='https://wandb.ai/research-devellopment/sentiment-analysis/runs/on3yawg4' target=\"_blank\">https://wandb.ai/research-devellopment/sentiment-analysis/runs/on3yawg4</a>"
      ]
     },
     "metadata": {},
     "output_type": "display_data"
    }
   ],
   "execution_count": 33
  },
  {
   "metadata": {},
   "cell_type": "markdown",
   "source": "### Here is the Features That Have the Most Impact on the Sentiment",
   "id": "3316b709d2576b1c"
  },
  {
   "metadata": {
    "ExecuteTime": {
     "end_time": "2025-03-13T13:01:15.823309Z",
     "start_time": "2025-03-13T13:01:15.513563Z"
    }
   },
   "cell_type": "code",
   "source": "model.display_top_influences()",
   "id": "4c34f5272b61e511",
   "outputs": [
    {
     "data": {
      "text/plain": [
       "<Figure size 1200x600 with 2 Axes>"
      ],
      "image/png": "[encoded data removed]"
     },
     "metadata": {},
     "output_type": "display_data"
    }
   ],
   "execution_count": 34
  },
  {
   "metadata": {},
   "cell_type": "markdown",
   "source": "#### Notice there is a huge improvements in the performance `(TN: 155, TP: 136)`, after setting the model to LogisticRegression.",
   "id": "92cf0a4f5046d4a0"
  },
  {
   "metadata": {
    "ExecuteTime": {
     "end_time": "2025-03-13T13:01:15.923569Z",
     "start_time": "2025-03-13T13:01:15.829625Z"
    }
   },
   "cell_type": "code",
   "source": "model.display_confusion_matrix(test_features, test_target)",
   "id": "c1036cd91fff26e9",
   "outputs": [
    {
     "data": {
      "text/plain": [
       "<Figure size 640x480 with 2 Axes>"
      ],
      "image/png": "[encoded data removed]"
     },
     "metadata": {},
     "output_type": "display_data"
    }
   ],
   "execution_count": 35
  },
  {
   "metadata": {
    "ExecuteTime": {
     "end_time": "2025-03-13T13:01:17.328923Z",
     "start_time": "2025-03-13T13:01:15.933390Z"
    }
   },
   "cell_type": "code",
   "source": [
    "train_results = model.evaluate(train_features, train_target)\n",
    "test_results = model.evaluate(test_features, test_target)\n",
    "\n",
    "model.log(train_results=train_results, test_results=test_results)"
   ],
   "id": "35267bb7ebea2f49",
   "outputs": [
    {
     "data": {
      "text/plain": [
       "<IPython.core.display.HTML object>"
      ],
      "text/html": []
     },
     "metadata": {},
     "output_type": "display_data"
    },
    {
     "data": {
      "text/plain": [
       "<IPython.core.display.HTML object>"
      ],
      "text/html": [
       "<br>    <style><br>        .wandb-row {<br>            display: flex;<br>            flex-direction: row;<br>            flex-wrap: wrap;<br>            justify-content: flex-start;<br>            width: 100%;<br>        }<br>        .wandb-col {<br>            display: flex;<br>            flex-direction: column;<br>            flex-basis: 100%;<br>            flex: 1;<br>            padding: 10px;<br>        }<br>    </style><br><div class=\"wandb-row\"><div class=\"wandb-col\"><h3>Run history:</h3><br/><table class=\"wandb\"><tr><td>test_accuracy</td><td>▁</td></tr><tr><td>test_f1</td><td>▁</td></tr><tr><td>test_loss</td><td>▁</td></tr><tr><td>test_precision</td><td>▁</td></tr><tr><td>test_recall</td><td>▁</td></tr><tr><td>train_accuracy</td><td>▁</td></tr><tr><td>train_f1</td><td>▁</td></tr><tr><td>train_loss</td><td>▁</td></tr><tr><td>train_precision</td><td>▁</td></tr><tr><td>train_recall</td><td>▁</td></tr></table><br/></div><div class=\"wandb-col\"><h3>Run summary:</h3><br/><table class=\"wandb\"><tr><td>test_accuracy</td><td>0.8792</td></tr><tr><td>test_f1</td><td>0.8788</td></tr><tr><td>test_loss</td><td>0.4942</td></tr><tr><td>test_precision</td><td>0.8809</td></tr><tr><td>test_recall</td><td>0.8782</td></tr><tr><td>train_accuracy</td><td>0.9599</td></tr><tr><td>train_f1</td><td>0.9599</td></tr><tr><td>train_loss</td><td>0.4122</td></tr><tr><td>train_precision</td><td>0.9601</td></tr><tr><td>train_recall</td><td>0.9598</td></tr></table><br/></div></div>"
      ]
     },
     "metadata": {},
     "output_type": "display_data"
    },
    {
     "data": {
      "text/plain": [
       "<IPython.core.display.HTML object>"
      ],
      "text/html": [
       " View run <strong style=\"color:#cdcd00\">Experiment-8</strong> at: <a href='https://wandb.ai/research-devellopment/sentiment-analysis/runs/on3yawg4' target=\"_blank\">https://wandb.ai/research-devellopment/sentiment-analysis/runs/on3yawg4</a><br> View project at: <a href='https://wandb.ai/research-devellopment/sentiment-analysis' target=\"_blank\">https://wandb.ai/research-devellopment/sentiment-analysis</a><br>Synced 5 W&B file(s), 0 media file(s), 0 artifact file(s) and 0 other file(s)"
      ]
     },
     "metadata": {},
     "output_type": "display_data"
    },
    {
     "data": {
      "text/plain": [
       "<IPython.core.display.HTML object>"
      ],
      "text/html": [
       "Find logs at: <code>./wandb/run-20250313_150114-on3yawg4/logs</code>"
      ]
     },
     "metadata": {},
     "output_type": "display_data"
    },
    {
     "data": {
      "text/plain": [
       "                    model       vectorizer  train_loss  train_accuracy  \\\n",
       "0           MultinomialNB  TfidfVectorizer      0.3937          0.9418   \n",
       "1           MultinomialNB  TfidfVectorizer      0.3512          0.9622   \n",
       "2           MultinomialNB  TfidfVectorizer      0.3757          0.9456   \n",
       "3  RandomForestClassifier  TfidfVectorizer      0.1672          1.0000   \n",
       "4  RandomForestClassifier  TfidfVectorizer      0.1659          1.0000   \n",
       "5  RandomForestClassifier  TfidfVectorizer      0.5767          0.8851   \n",
       "6  RandomForestClassifier  TfidfVectorizer      0.5799          0.9048   \n",
       "7      LogisticRegression  TfidfVectorizer      0.4122          0.9599   \n",
       "\n",
       "   train_f1  train_recall  train_precision  test_loss  test_accuracy  test_f1  \\\n",
       "0    0.9414        0.9404           0.9483     0.5518         0.7311   0.7126   \n",
       "1    0.9621        0.9615           0.9643     0.5275         0.7583   0.7486   \n",
       "2    0.9454        0.9449           0.9472     0.5057         0.8278   0.8247   \n",
       "3    1.0000        1.0000           1.0000     0.5392         0.8066   0.8045   \n",
       "4    1.0000        1.0000           1.0000     0.5354         0.7976   0.7936   \n",
       "5    0.8850        0.8850           0.8851     0.6204         0.7764   0.7733   \n",
       "6    0.9045        0.9041           0.9060     0.6247         0.7915   0.7885   \n",
       "7    0.9599        0.9598           0.9601     0.4942         0.8792   0.8788   \n",
       "\n",
       "   ...  max_df  random_state  max_features  n_estimators  max_depth  \\\n",
       "0  ...     NaN           NaN           NaN           NaN        NaN   \n",
       "1  ...     NaN           NaN           NaN           NaN        NaN   \n",
       "2  ...     0.7           NaN           NaN           NaN        NaN   \n",
       "3  ...     0.7          42.0           NaN           NaN        NaN   \n",
       "4  ...     0.7          42.0        3000.0           NaN        NaN   \n",
       "5  ...     0.7          42.0        3000.0          50.0        5.0   \n",
       "6  ...     0.7          42.0        3000.0          50.0        5.0   \n",
       "7  ...     0.7          42.0        3000.0           NaN        NaN   \n",
       "\n",
       "   min_samples_leaf  min_samples_split  ngram_range  \\\n",
       "0               NaN                NaN          NaN   \n",
       "1               NaN                NaN          NaN   \n",
       "2               NaN                NaN          NaN   \n",
       "3               NaN                NaN          NaN   \n",
       "4               NaN                NaN          NaN   \n",
       "5               5.0                3.0       (1, 2)   \n",
       "6               5.0                3.0       (1, 2)   \n",
       "7               NaN                NaN       (1, 2)   \n",
       "\n",
       "                                          stop_words  max_iter  \n",
       "0                                                NaN       NaN  \n",
       "1                                                NaN       NaN  \n",
       "2                                                NaN       NaN  \n",
       "3                                                NaN       NaN  \n",
       "4                                                NaN       NaN  \n",
       "5                                                NaN       NaN  \n",
       "6  [no, character, film, scene, not, good, make, ...       NaN  \n",
       "7  [no, character, film, scene, not, good, make, ...    1000.0  \n",
       "\n",
       "[8 rows x 23 columns]"
      ],
      "text/html": [
       "<div>\n",
       "<style scoped>\n",
       "    .dataframe tbody tr th:only-of-type {\n",
       "        vertical-align: middle;\n",
       "    }\n",
       "\n",
       "    .dataframe tbody tr th {\n",
       "        vertical-align: top;\n",
       "    }\n",
       "\n",
       "    .dataframe thead th {\n",
       "        text-align: right;\n",
       "    }\n",
       "</style>\n",
       "<table border=\"1\" class=\"dataframe\">\n",
       "  <thead>\n",
       "    <tr style=\"text-align: right;\">\n",
       "      <th></th>\n",
       "      <th>model</th>\n",
       "      <th>vectorizer</th>\n",
       "      <th>train_loss</th>\n",
       "      <th>train_accuracy</th>\n",
       "      <th>train_f1</th>\n",
       "      <th>train_recall</th>\n",
       "      <th>train_precision</th>\n",
       "      <th>test_loss</th>\n",
       "      <th>test_accuracy</th>\n",
       "      <th>test_f1</th>\n",
       "      <th>...</th>\n",
       "      <th>max_df</th>\n",
       "      <th>random_state</th>\n",
       "      <th>max_features</th>\n",
       "      <th>n_estimators</th>\n",
       "      <th>max_depth</th>\n",
       "      <th>min_samples_leaf</th>\n",
       "      <th>min_samples_split</th>\n",
       "      <th>ngram_range</th>\n",
       "      <th>stop_words</th>\n",
       "      <th>max_iter</th>\n",
       "    </tr>\n",
       "  </thead>\n",
       "  <tbody>\n",
       "    <tr>\n",
       "      <th>0</th>\n",
       "      <td>MultinomialNB</td>\n",
       "      <td>TfidfVectorizer</td>\n",
       "      <td>0.3937</td>\n",
       "      <td>0.9418</td>\n",
       "      <td>0.9414</td>\n",
       "      <td>0.9404</td>\n",
       "      <td>0.9483</td>\n",
       "      <td>0.5518</td>\n",
       "      <td>0.7311</td>\n",
       "      <td>0.7126</td>\n",
       "      <td>...</td>\n",
       "      <td>NaN</td>\n",
       "      <td>NaN</td>\n",
       "      <td>NaN</td>\n",
       "      <td>NaN</td>\n",
       "      <td>NaN</td>\n",
       "      <td>NaN</td>\n",
       "      <td>NaN</td>\n",
       "      <td>NaN</td>\n",
       "      <td>NaN</td>\n",
       "      <td>NaN</td>\n",
       "    </tr>\n",
       "    <tr>\n",
       "      <th>1</th>\n",
       "      <td>MultinomialNB</td>\n",
       "      <td>TfidfVectorizer</td>\n",
       "      <td>0.3512</td>\n",
       "      <td>0.9622</td>\n",
       "      <td>0.9621</td>\n",
       "      <td>0.9615</td>\n",
       "      <td>0.9643</td>\n",
       "      <td>0.5275</td>\n",
       "      <td>0.7583</td>\n",
       "      <td>0.7486</td>\n",
       "      <td>...</td>\n",
       "      <td>NaN</td>\n",
       "      <td>NaN</td>\n",
       "      <td>NaN</td>\n",
       "      <td>NaN</td>\n",
       "      <td>NaN</td>\n",
       "      <td>NaN</td>\n",
       "      <td>NaN</td>\n",
       "      <td>NaN</td>\n",
       "      <td>NaN</td>\n",
       "      <td>NaN</td>\n",
       "    </tr>\n",
       "    <tr>\n",
       "      <th>2</th>\n",
       "      <td>MultinomialNB</td>\n",
       "      <td>TfidfVectorizer</td>\n",
       "      <td>0.3757</td>\n",
       "      <td>0.9456</td>\n",
       "      <td>0.9454</td>\n",
       "      <td>0.9449</td>\n",
       "      <td>0.9472</td>\n",
       "      <td>0.5057</td>\n",
       "      <td>0.8278</td>\n",
       "      <td>0.8247</td>\n",
       "      <td>...</td>\n",
       "      <td>0.7</td>\n",
       "      <td>NaN</td>\n",
       "      <td>NaN</td>\n",
       "      <td>NaN</td>\n",
       "      <td>NaN</td>\n",
       "      <td>NaN</td>\n",
       "      <td>NaN</td>\n",
       "      <td>NaN</td>\n",
       "      <td>NaN</td>\n",
       "      <td>NaN</td>\n",
       "    </tr>\n",
       "    <tr>\n",
       "      <th>3</th>\n",
       "      <td>RandomForestClassifier</td>\n",
       "      <td>TfidfVectorizer</td>\n",
       "      <td>0.1672</td>\n",
       "      <td>1.0000</td>\n",
       "      <td>1.0000</td>\n",
       "      <td>1.0000</td>\n",
       "      <td>1.0000</td>\n",
       "      <td>0.5392</td>\n",
       "      <td>0.8066</td>\n",
       "      <td>0.8045</td>\n",
       "      <td>...</td>\n",
       "      <td>0.7</td>\n",
       "      <td>42.0</td>\n",
       "      <td>NaN</td>\n",
       "      <td>NaN</td>\n",
       "      <td>NaN</td>\n",
       "      <td>NaN</td>\n",
       "      <td>NaN</td>\n",
       "      <td>NaN</td>\n",
       "      <td>NaN</td>\n",
       "      <td>NaN</td>\n",
       "    </tr>\n",
       "    <tr>\n",
       "      <th>4</th>\n",
       "      <td>RandomForestClassifier</td>\n",
       "      <td>TfidfVectorizer</td>\n",
       "      <td>0.1659</td>\n",
       "      <td>1.0000</td>\n",
       "      <td>1.0000</td>\n",
       "      <td>1.0000</td>\n",
       "      <td>1.0000</td>\n",
       "      <td>0.5354</td>\n",
       "      <td>0.7976</td>\n",
       "      <td>0.7936</td>\n",
       "      <td>...</td>\n",
       "      <td>0.7</td>\n",
       "      <td>42.0</td>\n",
       "      <td>3000.0</td>\n",
       "      <td>NaN</td>\n",
       "      <td>NaN</td>\n",
       "      <td>NaN</td>\n",
       "      <td>NaN</td>\n",
       "      <td>NaN</td>\n",
       "      <td>NaN</td>\n",
       "      <td>NaN</td>\n",
       "    </tr>\n",
       "    <tr>\n",
       "      <th>5</th>\n",
       "      <td>RandomForestClassifier</td>\n",
       "      <td>TfidfVectorizer</td>\n",
       "      <td>0.5767</td>\n",
       "      <td>0.8851</td>\n",
       "      <td>0.8850</td>\n",
       "      <td>0.8850</td>\n",
       "      <td>0.8851</td>\n",
       "      <td>0.6204</td>\n",
       "      <td>0.7764</td>\n",
       "      <td>0.7733</td>\n",
       "      <td>...</td>\n",
       "      <td>0.7</td>\n",
       "      <td>42.0</td>\n",
       "      <td>3000.0</td>\n",
       "      <td>50.0</td>\n",
       "      <td>5.0</td>\n",
       "      <td>5.0</td>\n",
       "      <td>3.0</td>\n",
       "      <td>(1, 2)</td>\n",
       "      <td>NaN</td>\n",
       "      <td>NaN</td>\n",
       "    </tr>\n",
       "    <tr>\n",
       "      <th>6</th>\n",
       "      <td>RandomForestClassifier</td>\n",
       "      <td>TfidfVectorizer</td>\n",
       "      <td>0.5799</td>\n",
       "      <td>0.9048</td>\n",
       "      <td>0.9045</td>\n",
       "      <td>0.9041</td>\n",
       "      <td>0.9060</td>\n",
       "      <td>0.6247</td>\n",
       "      <td>0.7915</td>\n",
       "      <td>0.7885</td>\n",
       "      <td>...</td>\n",
       "      <td>0.7</td>\n",
       "      <td>42.0</td>\n",
       "      <td>3000.0</td>\n",
       "      <td>50.0</td>\n",
       "      <td>5.0</td>\n",
       "      <td>5.0</td>\n",
       "      <td>3.0</td>\n",
       "      <td>(1, 2)</td>\n",
       "      <td>[no, character, film, scene, not, good, make, ...</td>\n",
       "      <td>NaN</td>\n",
       "    </tr>\n",
       "    <tr>\n",
       "      <th>7</th>\n",
       "      <td>LogisticRegression</td>\n",
       "      <td>TfidfVectorizer</td>\n",
       "      <td>0.4122</td>\n",
       "      <td>0.9599</td>\n",
       "      <td>0.9599</td>\n",
       "      <td>0.9598</td>\n",
       "      <td>0.9601</td>\n",
       "      <td>0.4942</td>\n",
       "      <td>0.8792</td>\n",
       "      <td>0.8788</td>\n",
       "      <td>...</td>\n",
       "      <td>0.7</td>\n",
       "      <td>42.0</td>\n",
       "      <td>3000.0</td>\n",
       "      <td>NaN</td>\n",
       "      <td>NaN</td>\n",
       "      <td>NaN</td>\n",
       "      <td>NaN</td>\n",
       "      <td>(1, 2)</td>\n",
       "      <td>[no, character, film, scene, not, good, make, ...</td>\n",
       "      <td>1000.0</td>\n",
       "    </tr>\n",
       "  </tbody>\n",
       "</table>\n",
       "<p>8 rows × 23 columns</p>\n",
       "</div>"
      ]
     },
     "execution_count": 36,
     "metadata": {},
     "output_type": "execute_result"
    }
   ],
   "execution_count": 36
  },
  {
   "metadata": {},
   "cell_type": "markdown",
   "source": [
    "### Updating the Model Configuration (vectorizer)\n",
    "Update the vectorizer `stop_words` hyperparameters where ignore removing `commons` from the feature set, so the `commons` will be included in the feature set.\n",
    "\n",
    "After updating these configurations, the Model instance is reinitialized with the new settings, ensuring that the model uses the updated parameters for vectorization."
   ],
   "id": "90dfc03d3300d980"
  },
  {
   "metadata": {
    "ExecuteTime": {
     "end_time": "2025-03-13T13:01:19.462277Z",
     "start_time": "2025-03-13T13:01:17.384258Z"
    }
   },
   "cell_type": "code",
   "source": [
    "model_config.vectorizer_params.update({\"stop_words\": None})\n",
    "\n",
    "model = Model(model_config)\n",
    "\n",
    "train_features = model.vectorize(train_inputs, fit=True)\n",
    "test_features = model.vectorize(test_inputs, fit=False)\n",
    "\n",
    "model.fit(train_features, train_target)"
   ],
   "id": "933f941c59844457",
   "outputs": [
    {
     "data": {
      "text/plain": [
       "<IPython.core.display.HTML object>"
      ],
      "text/html": [
       "Tracking run with wandb version 0.19.8"
      ]
     },
     "metadata": {},
     "output_type": "display_data"
    },
    {
     "data": {
      "text/plain": [
       "<IPython.core.display.HTML object>"
      ],
      "text/html": [
       "Run data is saved locally in <code>/home/ismael/Projects/sentiment-analysis/wandb/run-20250313_150118-ywphk5c5</code>"
      ]
     },
     "metadata": {},
     "output_type": "display_data"
    },
    {
     "data": {
      "text/plain": [
       "<IPython.core.display.HTML object>"
      ],
      "text/html": [
       "Syncing run <strong><a href='https://wandb.ai/research-devellopment/sentiment-analysis/runs/ywphk5c5' target=\"_blank\">Experiment-9</a></strong> to <a href='https://wandb.ai/research-devellopment/sentiment-analysis' target=\"_blank\">Weights & Biases</a> (<a href='https://wandb.me/developer-guide' target=\"_blank\">docs</a>)<br>"
      ]
     },
     "metadata": {},
     "output_type": "display_data"
    },
    {
     "data": {
      "text/plain": [
       "<IPython.core.display.HTML object>"
      ],
      "text/html": [
       " View project at <a href='https://wandb.ai/research-devellopment/sentiment-analysis' target=\"_blank\">https://wandb.ai/research-devellopment/sentiment-analysis</a>"
      ]
     },
     "metadata": {},
     "output_type": "display_data"
    },
    {
     "data": {
      "text/plain": [
       "<IPython.core.display.HTML object>"
      ],
      "text/html": [
       " View run at <a href='https://wandb.ai/research-devellopment/sentiment-analysis/runs/ywphk5c5' target=\"_blank\">https://wandb.ai/research-devellopment/sentiment-analysis/runs/ywphk5c5</a>"
      ]
     },
     "metadata": {},
     "output_type": "display_data"
    }
   ],
   "execution_count": 37
  },
  {
   "metadata": {
    "ExecuteTime": {
     "end_time": "2025-03-13T13:01:19.738842Z",
     "start_time": "2025-03-13T13:01:19.490445Z"
    }
   },
   "cell_type": "code",
   "source": "model.display_top_influences()",
   "id": "966b76869d65a924",
   "outputs": [
    {
     "data": {
      "text/plain": [
       "<Figure size 1200x600 with 2 Axes>"
      ],
      "image/png": "[encoded data removed]"
     },
     "metadata": {},
     "output_type": "display_data"
    }
   ],
   "execution_count": 38
  },
  {
   "metadata": {},
   "cell_type": "markdown",
   "source": "#### From our experiments, this is the best result we obtained: `(TN: 155, TP: 137)`.",
   "id": "99ad222168c991e1"
  },
  {
   "metadata": {
    "ExecuteTime": {
     "end_time": "2025-03-13T13:01:19.870813Z",
     "start_time": "2025-03-13T13:01:19.746088Z"
    }
   },
   "cell_type": "code",
   "source": "model.display_confusion_matrix(test_features, test_target)",
   "id": "29753c07fb28a71a",
   "outputs": [
    {
     "data": {
      "text/plain": [
       "<Figure size 640x480 with 2 Axes>"
      ],
      "image/png": "[encoded data removed]"
     },
     "metadata": {},
     "output_type": "display_data"
    }
   ],
   "execution_count": 39
  },
  {
   "metadata": {
    "ExecuteTime": {
     "end_time": "2025-03-13T13:01:21.431496Z",
     "start_time": "2025-03-13T13:01:19.925729Z"
    }
   },
   "cell_type": "code",
   "source": [
    "train_results = model.evaluate(train_features, train_target)\n",
    "test_results = model.evaluate(test_features, test_target)\n",
    "\n",
    "model.log(train_results=train_results, test_results=test_results)"
   ],
   "id": "1d82405a4ff13974",
   "outputs": [
    {
     "data": {
      "text/plain": [
       "<IPython.core.display.HTML object>"
      ],
      "text/html": []
     },
     "metadata": {},
     "output_type": "display_data"
    },
    {
     "data": {
      "text/plain": [
       "<IPython.core.display.HTML object>"
      ],
      "text/html": [
       "<br>    <style><br>        .wandb-row {<br>            display: flex;<br>            flex-direction: row;<br>            flex-wrap: wrap;<br>            justify-content: flex-start;<br>            width: 100%;<br>        }<br>        .wandb-col {<br>            display: flex;<br>            flex-direction: column;<br>            flex-basis: 100%;<br>            flex: 1;<br>            padding: 10px;<br>        }<br>    </style><br><div class=\"wandb-row\"><div class=\"wandb-col\"><h3>Run history:</h3><br/><table class=\"wandb\"><tr><td>test_accuracy</td><td>▁</td></tr><tr><td>test_f1</td><td>▁</td></tr><tr><td>test_loss</td><td>▁</td></tr><tr><td>test_precision</td><td>▁</td></tr><tr><td>test_recall</td><td>▁</td></tr><tr><td>train_accuracy</td><td>▁</td></tr><tr><td>train_f1</td><td>▁</td></tr><tr><td>train_loss</td><td>▁</td></tr><tr><td>train_precision</td><td>▁</td></tr><tr><td>train_recall</td><td>▁</td></tr></table><br/></div><div class=\"wandb-col\"><h3>Run summary:</h3><br/><table class=\"wandb\"><tr><td>test_accuracy</td><td>0.8822</td></tr><tr><td>test_f1</td><td>0.8818</td></tr><tr><td>test_loss</td><td>0.4903</td></tr><tr><td>test_precision</td><td>0.8836</td></tr><tr><td>test_recall</td><td>0.8813</td></tr><tr><td>train_accuracy</td><td>0.9599</td></tr><tr><td>train_f1</td><td>0.9599</td></tr><tr><td>train_loss</td><td>0.41</td></tr><tr><td>train_precision</td><td>0.96</td></tr><tr><td>train_recall</td><td>0.9599</td></tr></table><br/></div></div>"
      ]
     },
     "metadata": {},
     "output_type": "display_data"
    },
    {
     "data": {
      "text/plain": [
       "<IPython.core.display.HTML object>"
      ],
      "text/html": [
       " View run <strong style=\"color:#cdcd00\">Experiment-9</strong> at: <a href='https://wandb.ai/research-devellopment/sentiment-analysis/runs/ywphk5c5' target=\"_blank\">https://wandb.ai/research-devellopment/sentiment-analysis/runs/ywphk5c5</a><br> View project at: <a href='https://wandb.ai/research-devellopment/sentiment-analysis' target=\"_blank\">https://wandb.ai/research-devellopment/sentiment-analysis</a><br>Synced 5 W&B file(s), 0 media file(s), 0 artifact file(s) and 0 other file(s)"
      ]
     },
     "metadata": {},
     "output_type": "display_data"
    },
    {
     "data": {
      "text/plain": [
       "<IPython.core.display.HTML object>"
      ],
      "text/html": [
       "Find logs at: <code>./wandb/run-20250313_150118-ywphk5c5/logs</code>"
      ]
     },
     "metadata": {},
     "output_type": "display_data"
    },
    {
     "data": {
      "text/plain": [
       "                    model       vectorizer  train_loss  train_accuracy  \\\n",
       "0           MultinomialNB  TfidfVectorizer      0.3937          0.9418   \n",
       "1           MultinomialNB  TfidfVectorizer      0.3512          0.9622   \n",
       "2           MultinomialNB  TfidfVectorizer      0.3757          0.9456   \n",
       "3  RandomForestClassifier  TfidfVectorizer      0.1672          1.0000   \n",
       "4  RandomForestClassifier  TfidfVectorizer      0.1659          1.0000   \n",
       "5  RandomForestClassifier  TfidfVectorizer      0.5767          0.8851   \n",
       "6  RandomForestClassifier  TfidfVectorizer      0.5799          0.9048   \n",
       "7      LogisticRegression  TfidfVectorizer      0.4122          0.9599   \n",
       "8      LogisticRegression  TfidfVectorizer      0.4100          0.9599   \n",
       "\n",
       "   train_f1  train_recall  train_precision  test_loss  test_accuracy  test_f1  \\\n",
       "0    0.9414        0.9404           0.9483     0.5518         0.7311   0.7126   \n",
       "1    0.9621        0.9615           0.9643     0.5275         0.7583   0.7486   \n",
       "2    0.9454        0.9449           0.9472     0.5057         0.8278   0.8247   \n",
       "3    1.0000        1.0000           1.0000     0.5392         0.8066   0.8045   \n",
       "4    1.0000        1.0000           1.0000     0.5354         0.7976   0.7936   \n",
       "5    0.8850        0.8850           0.8851     0.6204         0.7764   0.7733   \n",
       "6    0.9045        0.9041           0.9060     0.6247         0.7915   0.7885   \n",
       "7    0.9599        0.9598           0.9601     0.4942         0.8792   0.8788   \n",
       "8    0.9599        0.9599           0.9600     0.4903         0.8822   0.8818   \n",
       "\n",
       "   ...  max_df  random_state  max_features  n_estimators  max_depth  \\\n",
       "0  ...     NaN           NaN           NaN           NaN        NaN   \n",
       "1  ...     NaN           NaN           NaN           NaN        NaN   \n",
       "2  ...     0.7           NaN           NaN           NaN        NaN   \n",
       "3  ...     0.7          42.0           NaN           NaN        NaN   \n",
       "4  ...     0.7          42.0        3000.0           NaN        NaN   \n",
       "5  ...     0.7          42.0        3000.0          50.0        5.0   \n",
       "6  ...     0.7          42.0        3000.0          50.0        5.0   \n",
       "7  ...     0.7          42.0        3000.0           NaN        NaN   \n",
       "8  ...     0.7          42.0        3000.0           NaN        NaN   \n",
       "\n",
       "   min_samples_leaf  min_samples_split  ngram_range  \\\n",
       "0               NaN                NaN          NaN   \n",
       "1               NaN                NaN          NaN   \n",
       "2               NaN                NaN          NaN   \n",
       "3               NaN                NaN          NaN   \n",
       "4               NaN                NaN          NaN   \n",
       "5               5.0                3.0       (1, 2)   \n",
       "6               5.0                3.0       (1, 2)   \n",
       "7               NaN                NaN       (1, 2)   \n",
       "8               NaN                NaN       (1, 2)   \n",
       "\n",
       "                                          stop_words  max_iter  \n",
       "0                                                NaN       NaN  \n",
       "1                                                NaN       NaN  \n",
       "2                                                NaN       NaN  \n",
       "3                                                NaN       NaN  \n",
       "4                                                NaN       NaN  \n",
       "5                                                NaN       NaN  \n",
       "6  [no, character, film, scene, not, good, make, ...       NaN  \n",
       "7  [no, character, film, scene, not, good, make, ...    1000.0  \n",
       "8                                               None    1000.0  \n",
       "\n",
       "[9 rows x 23 columns]"
      ],
      "text/html": [
       "<div>\n",
       "<style scoped>\n",
       "    .dataframe tbody tr th:only-of-type {\n",
       "        vertical-align: middle;\n",
       "    }\n",
       "\n",
       "    .dataframe tbody tr th {\n",
       "        vertical-align: top;\n",
       "    }\n",
       "\n",
       "    .dataframe thead th {\n",
       "        text-align: right;\n",
       "    }\n",
       "</style>\n",
       "<table border=\"1\" class=\"dataframe\">\n",
       "  <thead>\n",
       "    <tr style=\"text-align: right;\">\n",
       "      <th></th>\n",
       "      <th>model</th>\n",
       "      <th>vectorizer</th>\n",
       "      <th>train_loss</th>\n",
       "      <th>train_accuracy</th>\n",
       "      <th>train_f1</th>\n",
       "      <th>train_recall</th>\n",
       "      <th>train_precision</th>\n",
       "      <th>test_loss</th>\n",
       "      <th>test_accuracy</th>\n",
       "      <th>test_f1</th>\n",
       "      <th>...</th>\n",
       "      <th>max_df</th>\n",
       "      <th>random_state</th>\n",
       "      <th>max_features</th>\n",
       "      <th>n_estimators</th>\n",
       "      <th>max_depth</th>\n",
       "      <th>min_samples_leaf</th>\n",
       "      <th>min_samples_split</th>\n",
       "      <th>ngram_range</th>\n",
       "      <th>stop_words</th>\n",
       "      <th>max_iter</th>\n",
       "    </tr>\n",
       "  </thead>\n",
       "  <tbody>\n",
       "    <tr>\n",
       "      <th>0</th>\n",
       "      <td>MultinomialNB</td>\n",
       "      <td>TfidfVectorizer</td>\n",
       "      <td>0.3937</td>\n",
       "      <td>0.9418</td>\n",
       "      <td>0.9414</td>\n",
       "      <td>0.9404</td>\n",
       "      <td>0.9483</td>\n",
       "      <td>0.5518</td>\n",
       "      <td>0.7311</td>\n",
       "      <td>0.7126</td>\n",
       "      <td>...</td>\n",
       "      <td>NaN</td>\n",
       "      <td>NaN</td>\n",
       "      <td>NaN</td>\n",
       "      <td>NaN</td>\n",
       "      <td>NaN</td>\n",
       "      <td>NaN</td>\n",
       "      <td>NaN</td>\n",
       "      <td>NaN</td>\n",
       "      <td>NaN</td>\n",
       "      <td>NaN</td>\n",
       "    </tr>\n",
       "    <tr>\n",
       "      <th>1</th>\n",
       "      <td>MultinomialNB</td>\n",
       "      <td>TfidfVectorizer</td>\n",
       "      <td>0.3512</td>\n",
       "      <td>0.9622</td>\n",
       "      <td>0.9621</td>\n",
       "      <td>0.9615</td>\n",
       "      <td>0.9643</td>\n",
       "      <td>0.5275</td>\n",
       "      <td>0.7583</td>\n",
       "      <td>0.7486</td>\n",
       "      <td>...</td>\n",
       "      <td>NaN</td>\n",
       "      <td>NaN</td>\n",
       "      <td>NaN</td>\n",
       "      <td>NaN</td>\n",
       "      <td>NaN</td>\n",
       "      <td>NaN</td>\n",
       "      <td>NaN</td>\n",
       "      <td>NaN</td>\n",
       "      <td>NaN</td>\n",
       "      <td>NaN</td>\n",
       "    </tr>\n",
       "    <tr>\n",
       "      <th>2</th>\n",
       "      <td>MultinomialNB</td>\n",
       "      <td>TfidfVectorizer</td>\n",
       "      <td>0.3757</td>\n",
       "      <td>0.9456</td>\n",
       "      <td>0.9454</td>\n",
       "      <td>0.9449</td>\n",
       "      <td>0.9472</td>\n",
       "      <td>0.5057</td>\n",
       "      <td>0.8278</td>\n",
       "      <td>0.8247</td>\n",
       "      <td>...</td>\n",
       "      <td>0.7</td>\n",
       "      <td>NaN</td>\n",
       "      <td>NaN</td>\n",
       "      <td>NaN</td>\n",
       "      <td>NaN</td>\n",
       "      <td>NaN</td>\n",
       "      <td>NaN</td>\n",
       "      <td>NaN</td>\n",
       "      <td>NaN</td>\n",
       "      <td>NaN</td>\n",
       "    </tr>\n",
       "    <tr>\n",
       "      <th>3</th>\n",
       "      <td>RandomForestClassifier</td>\n",
       "      <td>TfidfVectorizer</td>\n",
       "      <td>0.1672</td>\n",
       "      <td>1.0000</td>\n",
       "      <td>1.0000</td>\n",
       "      <td>1.0000</td>\n",
       "      <td>1.0000</td>\n",
       "      <td>0.5392</td>\n",
       "      <td>0.8066</td>\n",
       "      <td>0.8045</td>\n",
       "      <td>...</td>\n",
       "      <td>0.7</td>\n",
       "      <td>42.0</td>\n",
       "      <td>NaN</td>\n",
       "      <td>NaN</td>\n",
       "      <td>NaN</td>\n",
       "      <td>NaN</td>\n",
       "      <td>NaN</td>\n",
       "      <td>NaN</td>\n",
       "      <td>NaN</td>\n",
       "      <td>NaN</td>\n",
       "    </tr>\n",
       "    <tr>\n",
       "      <th>4</th>\n",
       "      <td>RandomForestClassifier</td>\n",
       "      <td>TfidfVectorizer</td>\n",
       "      <td>0.1659</td>\n",
       "      <td>1.0000</td>\n",
       "      <td>1.0000</td>\n",
       "      <td>1.0000</td>\n",
       "      <td>1.0000</td>\n",
       "      <td>0.5354</td>\n",
       "      <td>0.7976</td>\n",
       "      <td>0.7936</td>\n",
       "      <td>...</td>\n",
       "      <td>0.7</td>\n",
       "      <td>42.0</td>\n",
       "      <td>3000.0</td>\n",
       "      <td>NaN</td>\n",
       "      <td>NaN</td>\n",
       "      <td>NaN</td>\n",
       "      <td>NaN</td>\n",
       "      <td>NaN</td>\n",
       "      <td>NaN</td>\n",
       "      <td>NaN</td>\n",
       "    </tr>\n",
       "    <tr>\n",
       "      <th>5</th>\n",
       "      <td>RandomForestClassifier</td>\n",
       "      <td>TfidfVectorizer</td>\n",
       "      <td>0.5767</td>\n",
       "      <td>0.8851</td>\n",
       "      <td>0.8850</td>\n",
       "      <td>0.8850</td>\n",
       "      <td>0.8851</td>\n",
       "      <td>0.6204</td>\n",
       "      <td>0.7764</td>\n",
       "      <td>0.7733</td>\n",
       "      <td>...</td>\n",
       "      <td>0.7</td>\n",
       "      <td>42.0</td>\n",
       "      <td>3000.0</td>\n",
       "      <td>50.0</td>\n",
       "      <td>5.0</td>\n",
       "      <td>5.0</td>\n",
       "      <td>3.0</td>\n",
       "      <td>(1, 2)</td>\n",
       "      <td>NaN</td>\n",
       "      <td>NaN</td>\n",
       "    </tr>\n",
       "    <tr>\n",
       "      <th>6</th>\n",
       "      <td>RandomForestClassifier</td>\n",
       "      <td>TfidfVectorizer</td>\n",
       "      <td>0.5799</td>\n",
       "      <td>0.9048</td>\n",
       "      <td>0.9045</td>\n",
       "      <td>0.9041</td>\n",
       "      <td>0.9060</td>\n",
       "      <td>0.6247</td>\n",
       "      <td>0.7915</td>\n",
       "      <td>0.7885</td>\n",
       "      <td>...</td>\n",
       "      <td>0.7</td>\n",
       "      <td>42.0</td>\n",
       "      <td>3000.0</td>\n",
       "      <td>50.0</td>\n",
       "      <td>5.0</td>\n",
       "      <td>5.0</td>\n",
       "      <td>3.0</td>\n",
       "      <td>(1, 2)</td>\n",
       "      <td>[no, character, film, scene, not, good, make, ...</td>\n",
       "      <td>NaN</td>\n",
       "    </tr>\n",
       "    <tr>\n",
       "      <th>7</th>\n",
       "      <td>LogisticRegression</td>\n",
       "      <td>TfidfVectorizer</td>\n",
       "      <td>0.4122</td>\n",
       "      <td>0.9599</td>\n",
       "      <td>0.9599</td>\n",
       "      <td>0.9598</td>\n",
       "      <td>0.9601</td>\n",
       "      <td>0.4942</td>\n",
       "      <td>0.8792</td>\n",
       "      <td>0.8788</td>\n",
       "      <td>...</td>\n",
       "      <td>0.7</td>\n",
       "      <td>42.0</td>\n",
       "      <td>3000.0</td>\n",
       "      <td>NaN</td>\n",
       "      <td>NaN</td>\n",
       "      <td>NaN</td>\n",
       "      <td>NaN</td>\n",
       "      <td>(1, 2)</td>\n",
       "      <td>[no, character, film, scene, not, good, make, ...</td>\n",
       "      <td>1000.0</td>\n",
       "    </tr>\n",
       "    <tr>\n",
       "      <th>8</th>\n",
       "      <td>LogisticRegression</td>\n",
       "      <td>TfidfVectorizer</td>\n",
       "      <td>0.4100</td>\n",
       "      <td>0.9599</td>\n",
       "      <td>0.9599</td>\n",
       "      <td>0.9599</td>\n",
       "      <td>0.9600</td>\n",
       "      <td>0.4903</td>\n",
       "      <td>0.8822</td>\n",
       "      <td>0.8818</td>\n",
       "      <td>...</td>\n",
       "      <td>0.7</td>\n",
       "      <td>42.0</td>\n",
       "      <td>3000.0</td>\n",
       "      <td>NaN</td>\n",
       "      <td>NaN</td>\n",
       "      <td>NaN</td>\n",
       "      <td>NaN</td>\n",
       "      <td>(1, 2)</td>\n",
       "      <td>None</td>\n",
       "      <td>1000.0</td>\n",
       "    </tr>\n",
       "  </tbody>\n",
       "</table>\n",
       "<p>9 rows × 23 columns</p>\n",
       "</div>"
      ]
     },
     "execution_count": 40,
     "metadata": {},
     "output_type": "execute_result"
    }
   ],
   "execution_count": 40
  },
  {
   "metadata": {},
   "cell_type": "markdown",
   "source": "## All Experiments are Tracked and Documented in [W&B Report](https://api.wandb.ai/links/research-devellopment/hjgmo1ka)",
   "id": "53b9e3b280c6d087"
  },
  {
   "metadata": {},
   "cell_type": "markdown",
   "source": [
    "## Inference\n",
    "\n",
    "Here in `type`, insert the name of the folders that contains the `neg` & `pos` folders, and enjoy with your testing."
   ],
   "id": "9c8ce154171c61f1"
  },
  {
   "metadata": {
    "ExecuteTime": {
     "end_time": "2025-03-13T13:09:08.360910Z",
     "start_time": "2025-03-13T13:09:04.793305Z"
    }
   },
   "cell_type": "code",
   "source": [
    "dataset_config = DatasetConfig(type=\"testing\")\n",
    "dataset = Dataset(dataset_config)\n",
    "\n",
    "dataset.load()\n",
    "dataset.clean()\n",
    "\n",
    "inputs, target = dataset.read[\"text\"], dataset.read[\"label\"]\n",
    "\n",
    "features = model.vectorize(inputs, fit=False)\n",
    "\n",
    "print(f\"Loss, Accuracy, F1, Recall, Precision: {model.evaluate(features, target)}\")"
   ],
   "id": "75aad48c635cd88f",
   "outputs": [],
   "execution_count": 48
  }
 ],
 "metadata": {
  "kernelspec": {
   "display_name": "Python 3",
   "language": "python",
   "name": "python3"
  },
  "language_info": {
   "codemirror_mode": {
    "name": "ipython",
    "version": 2
   },
   "file_extension": ".py",
   "mimetype": "text/x-python",
   "name": "python",
   "nbconvert_exporter": "python",
   "pygments_lexer": "ipython2",
   "version": "2.7.6"
  }
 },
 "nbformat": 4,
 "nbformat_minor": 5
}
